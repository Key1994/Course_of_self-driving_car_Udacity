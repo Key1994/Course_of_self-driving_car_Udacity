{
 "cells": [
  {
   "cell_type": "code",
   "execution_count": 1,
   "metadata": {},
   "outputs": [],
   "source": [
    "# coding:UTF-8\n",
    "# importing some useful packages\n",
    "import matplotlib.pyplot as plt\n",
    "import matplotlib.image as mpimg\n",
    "import numpy as np\n",
    "import cv2\n",
    "% matplotlib inline\n",
    "\n",
    "import math"
   ]
  },
  {
   "cell_type": "code",
   "execution_count": 2,
   "metadata": {},
   "outputs": [],
   "source": [
    "def region_of_interest(img, vertices):\n",
    "    \"\"\"\n",
    "    Applies an image mask.\n",
    "\n",
    "    Only keeps the region of the image defined by the polygon\n",
    "    formed from `vertices`. The rest of the image is set to black.\n",
    "    `vertices` should be a numpy array of integer points.\n",
    "    \"\"\"\n",
    "    # defining a blank mask to start with\n",
    "    mask = np.zeros_like(img)\n",
    "    # defining a 3 channel or 1 channel color to fill the mask with depending on the input image\n",
    "    if len(img.shape) > 2:\n",
    "        channel_count = img.shape[2]  # i.e. 3 or 4 depending on your image\n",
    "        ignore_mask_color = (255,) * channel_count\n",
    "    else:\n",
    "        ignore_mask_color = 255\n",
    "    # filling pixels inside the polygon defined by \"vertices\" with the fill color\n",
    "    cv2.fillPoly(mask, vertices, ignore_mask_color)\n",
    "\n",
    "    # returning the image only where mask pixels are nonzero\n",
    "    masked_image = cv2.bitwise_and(img, mask)\n",
    "    return masked_image\n"
   ]
  },
  {
   "cell_type": "code",
   "execution_count": 3,
   "metadata": {},
   "outputs": [],
   "source": [
    "def draw_lines(img,lines,color,thickness):\n",
    "    for line in lines:\n",
    "        for x1,y1,x2,y2 in line:\n",
    "            cv2.line(img,(x1,y1),(x2,y2),color,thickness)"
   ]
  },
  {
   "cell_type": "code",
   "execution_count": 4,
   "metadata": {},
   "outputs": [],
   "source": [
    "# 霍夫变换函数\n",
    "def hough_lines(img):\n",
    "    \"\"\"\n",
    "    `img` should be the output of a Canny transform.\n",
    "\n",
    "    Returns an image with hough lines drawn.\n",
    "    \"\"\"\n",
    "    rho = 2\n",
    "    theta = np.pi/180\n",
    "    threshold = 15\n",
    "    min_line_len = 60\n",
    "    max_line_gap = 30\n",
    "    lines = cv2.HoughLinesP(img, rho, theta, threshold, np.array([]), minLineLength=min_line_len,\n",
    "                            maxLineGap=max_line_gap)\n",
    "\n",
    "    line_img = np.zeros((img.shape[0], img.shape[1], 3), dtype=np.uint8)\n",
    "    draw_lines(line_img, lines, [255,0,0], 2)\n",
    "    cv2.imshow('hough_image',line_img)\n",
    "    return lines,line_img"
   ]
  },
  {
   "cell_type": "code",
   "execution_count": 5,
   "metadata": {},
   "outputs": [],
   "source": [
    "def Lane_finding(image):\n",
    "    image_gray = cv2.cvtColor(image, cv2.COLOR_BGR2GRAY)\n",
    "    image_blur = cv2.GaussianBlur(image_gray, (5,5), 0)\n",
    "    low_threshold = 50\n",
    "    high_threshold = 150\n",
    "    image_canny = cv2.Canny(image_blur, low_threshold, high_threshold)\n",
    "    cv2.imshow('image_canny', image_canny)\n",
    "    # 图像像素行数\n",
    "    rows = image_canny.shape[0]  # 540行\n",
    "    # 图像像素列数\n",
    "    cols = image_canny.shape[1]  # 960列\n",
    "    left_bottom = [0, rows]  # [0,540]\n",
    "    right_bottom = [cols, rows]  # [960,540]\n",
    "    apex = [cols / 2, rows*0.6]  # [480,310]\n",
    "    vertices = np.array([[left_bottom, right_bottom, apex]], np.int32)\n",
    "    roi_image = region_of_interest(image_canny, vertices)\n",
    "    cv2.imshow('roi_image', roi_image)\n",
    "    lines,hough_image = hough_lines(roi_image)\n",
    "    # 将得到线段绘制在原始图像上\n",
    "    line_image = np.copy(image)\n",
    "    draw_lines(line_image, lines, [255, 0, 0], 2)\n",
    "    # line_image = cv2.addWeighted(line_image, 0.8, hough_image, 1, 0)\n",
    "    cv2.imshow('src', line_image)\n",
    "    cv2.waitKey(0)\n",
    "    return hough_image"
   ]
  },
  {
   "cell_type": "code",
   "execution_count": 6,
   "metadata": {},
   "outputs": [],
   "source": [
    "image = mpimg.imread(\"/Users/zhangzheng/Desktop/lane_lines_finding/test_images/solidYellowLeft.jpg\")"
   ]
  },
  {
   "cell_type": "code",
   "execution_count": null,
   "metadata": {},
   "outputs": [],
   "source": [
    "if __name__ == '__main__':\n",
    "    Lane_finding(image)"
   ]
  }
 ],
 "metadata": {
  "kernelspec": {
   "display_name": "Python 2",
   "language": "python",
   "name": "python2"
  },
  "language_info": {
   "codemirror_mode": {
    "name": "ipython",
    "version": 2
   },
   "file_extension": ".py",
   "mimetype": "text/x-python",
   "name": "python",
   "nbconvert_exporter": "python",
   "pygments_lexer": "ipython2",
   "version": "2.7.16"
  }
 },
 "nbformat": 4,
 "nbformat_minor": 2
}
