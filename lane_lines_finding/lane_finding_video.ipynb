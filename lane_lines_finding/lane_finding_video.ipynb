{
 "cells": [
  {
   "cell_type": "code",
   "execution_count": 77,
   "metadata": {},
   "outputs": [],
   "source": [
    "# coding:UTF-8\n",
    "# importing some useful packages\n",
    "import matplotlib.pyplot as plt\n",
    "import matplotlib.image as mpimg\n",
    "import numpy as np\n",
    "import cv2\n",
    "% matplotlib inline\n",
    "\n",
    "import math\n",
    "from moviepy.editor import VideoFileClip\n",
    "from IPython.display import HTML"
   ]
  },
  {
   "cell_type": "code",
   "execution_count": 78,
   "metadata": {},
   "outputs": [],
   "source": [
    "def region_of_interest(img, vertices):\n",
    "    \"\"\"\n",
    "    Applies an image mask.\n",
    "\n",
    "    Only keeps the region of the image defined by the polygon\n",
    "    formed from `vertices`. The rest of the image is set to black.\n",
    "    `vertices` should be a numpy array of integer points.\n",
    "    \"\"\"\n",
    "    # defining a blank mask to start with\n",
    "    mask = np.zeros_like(img)\n",
    "    # defining a 3 channel or 1 channel color to fill the mask with depending on the input image\n",
    "    if len(img.shape) > 2:\n",
    "        channel_count = img.shape[2]  # i.e. 3 or 4 depending on your image\n",
    "        ignore_mask_color = (255,) * channel_count\n",
    "    else:\n",
    "        ignore_mask_color = 255\n",
    "    # filling pixels inside the polygon defined by \"vertices\" with the fill color\n",
    "    cv2.fillPoly(mask, vertices, ignore_mask_color)\n",
    "\n",
    "    # returning the image only where mask pixels are nonzero\n",
    "    masked_image = cv2.bitwise_and(img, mask)\n",
    "    return masked_image"
   ]
  },
  {
   "cell_type": "code",
   "execution_count": 79,
   "metadata": {},
   "outputs": [],
   "source": [
    "def yellow_transform(image):\n",
    "    image_hsv = cv2.cvtColor(image, cv2.COLOR_BGR2HSV)\n",
    "    lower_yellow = np.array([40, 100, 20])\n",
    "    upper_yellow = np.array([100, 255, 255])\n",
    "    mask = cv2.inRange(image_hsv, lower_yellow, upper_yellow)\n",
    "    # yellowthings = cv2.bitwise_and(image, mask)\n",
    "    # cv2.imshow('yellowthings',mask)\n",
    "    # cv2.waitKey(0)\n",
    "    return mask"
   ]
  },
  {
   "cell_type": "code",
   "execution_count": 80,
   "metadata": {},
   "outputs": [],
   "source": [
    "def draw_lines(img,lines,color,thickness):\n",
    "    if lines is not None:\n",
    "        for line in lines:\n",
    "            for x1,y1,x2,y2 in line:\n",
    "                cv2.line(img,(x1,y1),(x2,y2),color,thickness)"
   ]
  },
  {
   "cell_type": "code",
   "execution_count": 81,
   "metadata": {},
   "outputs": [],
   "source": [
    "# 霍夫变换函数\n",
    "def hough_lines(img):\n",
    "    \"\"\"\n",
    "    `img` should be the output of a Canny transform.\n",
    "\n",
    "    Returns an image with hough lines drawn.\n",
    "    \"\"\"\n",
    "    rho = 2\n",
    "    theta = np.pi/180\n",
    "    threshold = 15\n",
    "    min_line_len = 60\n",
    "    max_line_gap = 30\n",
    "    lines = cv2.HoughLinesP(img, rho, theta, threshold, np.array([]), minLineLength=min_line_len,\n",
    "                            maxLineGap=max_line_gap)\n",
    "    line_img = np.zeros((img.shape[0], img.shape[1], 3), dtype=np.uint8)\n",
    "    draw_lines(line_img, lines, [255,0,0], 2)\n",
    "    cv2.imshow('hough_image',line_img)\n",
    "    return lines,line_img"
   ]
  },
  {
   "cell_type": "code",
   "execution_count": 82,
   "metadata": {},
   "outputs": [],
   "source": [
    "def Lane_finding(image):\n",
    "    # image = mpimg.imread(\"/Users/zhangzheng/Desktop/lane_lines_finding/test_images/solidWhiteCurve.jpg\")\n",
    "    # image_gray = cv2.cvtColor(image, cv2.COLOR_RGB2GRAY)\n",
    "    image_gray = cv2.cvtColor(image, cv2.COLOR_BGR2GRAY)\n",
    "    image_yellow = yellow_transform(image)\n",
    "    for i in range(540):\n",
    "        for j in range(960):\n",
    "            if image_gray[i][j] >= image_yellow[i][j]:\n",
    "                image_gray[i][j] = image_gray[i][j]\n",
    "            else:\n",
    "                image_gray[i][j] = image_yellow[i][j]\n",
    "    image_blur = cv2.GaussianBlur(image_gray, (5,5), 0)\n",
    "    low_threshold = 100\n",
    "    high_threshold = 350\n",
    "    image_canny = cv2.Canny(image_blur, low_threshold, high_threshold)\n",
    "    cv2.imshow('image_canny', image_canny)\n",
    "    # 图像像素行数\n",
    "    rows = image_canny.shape[0]  # 540行\n",
    "    # 图像像素列数\n",
    "    cols = image_canny.shape[1]  # 960列\n",
    "    left_bottom = [0, rows]  # [0,540]\n",
    "    right_bottom = [cols, rows]  # [960,540]\n",
    "    apex = [cols / 2, rows*0.6]  # [480,310]\n",
    "    vertices = np.array([[left_bottom, right_bottom, apex]], np.int32)\n",
    "    print(vertices)\n",
    "    roi_image = region_of_interest(image_canny, vertices)\n",
    "    cv2.imshow('roi_image', roi_image)\n",
    "    lines,hough_image = hough_lines(roi_image)\n",
    "    return hough_image\n"
   ]
  },
  {
   "cell_type": "code",
   "execution_count": 83,
   "metadata": {},
   "outputs": [],
   "source": [
    "def process_image(image):\n",
    "    # NOTE: The output you return should be a color image (3 channel) for processing video below\n",
    "    # TODO: put your pipeline here,\n",
    "    # you should return the final output (image where lines are drawn on lanes)\n",
    "    line_image=Lane_finding(image)\n",
    "    result=cv2.addWeighted(line_image, 5, image, 0.2, 0)\n",
    "    return result"
   ]
  },
  {
   "cell_type": "code",
   "execution_count": 84,
   "metadata": {},
   "outputs": [
    {
     "name": "stdout",
     "output_type": "stream",
     "text": [
      "<moviepy.video.io.VideoFileClip.VideoFileClip instance at 0x1c2a4f1b90>\n"
     ]
    },
    {
     "name": "stderr",
     "output_type": "stream",
     "text": [
      "\n",
      "\n",
      "\n",
      "t:   0%|          | 0/251 [00:00<?, ?it/s, now=None]\u001b[A\u001b[A\u001b[A"
     ]
    },
    {
     "name": "stdout",
     "output_type": "stream",
     "text": [
      "[[[   0  720]\n",
      "  [1280  720]\n",
      "  [ 640  432]]]\n",
      "Moviepy - Building video /Users/zhangzheng/Desktop/lane_lines_finding/test_videos_output/challenge_output1.mp4.\n",
      "Moviepy - Writing video /Users/zhangzheng/Desktop/lane_lines_finding/test_videos_output/challenge_output1.mp4\n",
      "\n"
     ]
    },
    {
     "name": "stderr",
     "output_type": "stream",
     "text": [
      "\n",
      "\n",
      "\n",
      "t:   1%|          | 2/251 [00:00<01:21,  3.05it/s, now=None]\u001b[A\u001b[A\u001b[A"
     ]
    },
    {
     "name": "stdout",
     "output_type": "stream",
     "text": [
      "[[[   0  720]\n",
      "  [1280  720]\n",
      "  [ 640  432]]]\n"
     ]
    },
    {
     "name": "stderr",
     "output_type": "stream",
     "text": [
      "\n",
      "\n",
      "\n",
      "t:   1%|          | 3/251 [00:01<01:46,  2.32it/s, now=None]\u001b[A\u001b[A\u001b[A"
     ]
    },
    {
     "name": "stdout",
     "output_type": "stream",
     "text": [
      "[[[   0  720]\n",
      "  [1280  720]\n",
      "  [ 640  432]]]\n"
     ]
    },
    {
     "name": "stderr",
     "output_type": "stream",
     "text": [
      "\n",
      "\n",
      "\n",
      "t:   2%|▏         | 4/251 [00:01<02:03,  2.00it/s, now=None]\u001b[A\u001b[A\u001b[A"
     ]
    },
    {
     "name": "stdout",
     "output_type": "stream",
     "text": [
      "[[[   0  720]\n",
      "  [1280  720]\n",
      "  [ 640  432]]]\n"
     ]
    },
    {
     "name": "stderr",
     "output_type": "stream",
     "text": [
      "\n",
      "\n",
      "\n",
      "t:   2%|▏         | 5/251 [00:02<02:14,  1.83it/s, now=None]\u001b[A\u001b[A\u001b[A"
     ]
    },
    {
     "name": "stdout",
     "output_type": "stream",
     "text": [
      "[[[   0  720]\n",
      "  [1280  720]\n",
      "  [ 640  432]]]\n"
     ]
    },
    {
     "name": "stderr",
     "output_type": "stream",
     "text": [
      "\n",
      "\n",
      "\n",
      "t:   2%|▏         | 6/251 [00:03<02:21,  1.73it/s, now=None]\u001b[A\u001b[A\u001b[A"
     ]
    },
    {
     "name": "stdout",
     "output_type": "stream",
     "text": [
      "[[[   0  720]\n",
      "  [1280  720]\n",
      "  [ 640  432]]]\n"
     ]
    },
    {
     "name": "stderr",
     "output_type": "stream",
     "text": [
      "\n",
      "\n",
      "\n",
      "t:   3%|▎         | 7/251 [00:03<02:26,  1.66it/s, now=None]\u001b[A\u001b[A\u001b[A"
     ]
    },
    {
     "name": "stdout",
     "output_type": "stream",
     "text": [
      "[[[   0  720]\n",
      "  [1280  720]\n",
      "  [ 640  432]]]\n"
     ]
    },
    {
     "name": "stderr",
     "output_type": "stream",
     "text": [
      "\n",
      "\n",
      "\n",
      "t:   3%|▎         | 8/251 [00:04<02:28,  1.63it/s, now=None]\u001b[A\u001b[A\u001b[A"
     ]
    },
    {
     "name": "stdout",
     "output_type": "stream",
     "text": [
      "[[[   0  720]\n",
      "  [1280  720]\n",
      "  [ 640  432]]]\n"
     ]
    },
    {
     "name": "stderr",
     "output_type": "stream",
     "text": [
      "\n",
      "\n",
      "\n",
      "t:   4%|▎         | 9/251 [00:05<02:32,  1.59it/s, now=None]\u001b[A\u001b[A\u001b[A"
     ]
    },
    {
     "name": "stdout",
     "output_type": "stream",
     "text": [
      "[[[   0  720]\n",
      "  [1280  720]\n",
      "  [ 640  432]]]\n"
     ]
    },
    {
     "name": "stderr",
     "output_type": "stream",
     "text": [
      "\n",
      "\n",
      "\n",
      "t:   4%|▍         | 10/251 [00:05<02:33,  1.57it/s, now=None]\u001b[A\u001b[A\u001b[A"
     ]
    },
    {
     "name": "stdout",
     "output_type": "stream",
     "text": [
      "[[[   0  720]\n",
      "  [1280  720]\n",
      "  [ 640  432]]]\n"
     ]
    },
    {
     "name": "stderr",
     "output_type": "stream",
     "text": [
      "\n",
      "\n",
      "\n",
      "t:   4%|▍         | 11/251 [00:06<02:34,  1.55it/s, now=None]\u001b[A\u001b[A\u001b[A"
     ]
    },
    {
     "name": "stdout",
     "output_type": "stream",
     "text": [
      "[[[   0  720]\n",
      "  [1280  720]\n",
      "  [ 640  432]]]\n"
     ]
    },
    {
     "name": "stderr",
     "output_type": "stream",
     "text": [
      "\n",
      "\n",
      "\n",
      "t:   5%|▍         | 12/251 [00:07<02:34,  1.54it/s, now=None]\u001b[A\u001b[A\u001b[A"
     ]
    },
    {
     "name": "stdout",
     "output_type": "stream",
     "text": [
      "[[[   0  720]\n",
      "  [1280  720]\n",
      "  [ 640  432]]]\n"
     ]
    },
    {
     "name": "stderr",
     "output_type": "stream",
     "text": [
      "\n",
      "\n",
      "\n",
      "t:   5%|▌         | 13/251 [00:07<02:34,  1.54it/s, now=None]\u001b[A\u001b[A\u001b[A"
     ]
    },
    {
     "name": "stdout",
     "output_type": "stream",
     "text": [
      "[[[   0  720]\n",
      "  [1280  720]\n",
      "  [ 640  432]]]\n"
     ]
    },
    {
     "name": "stderr",
     "output_type": "stream",
     "text": [
      "\n",
      "\n",
      "\n",
      "t:   6%|▌         | 14/251 [00:08<02:32,  1.55it/s, now=None]\u001b[A\u001b[A\u001b[A"
     ]
    },
    {
     "name": "stdout",
     "output_type": "stream",
     "text": [
      "[[[   0  720]\n",
      "  [1280  720]\n",
      "  [ 640  432]]]\n"
     ]
    },
    {
     "name": "stderr",
     "output_type": "stream",
     "text": [
      "\n",
      "\n",
      "\n",
      "t:   6%|▌         | 15/251 [00:09<02:31,  1.56it/s, now=None]\u001b[A\u001b[A\u001b[A"
     ]
    },
    {
     "name": "stdout",
     "output_type": "stream",
     "text": [
      "[[[   0  720]\n",
      "  [1280  720]\n",
      "  [ 640  432]]]\n"
     ]
    },
    {
     "name": "stderr",
     "output_type": "stream",
     "text": [
      "\n",
      "\n",
      "\n",
      "t:   6%|▋         | 16/251 [00:09<02:30,  1.56it/s, now=None]\u001b[A\u001b[A\u001b[A"
     ]
    },
    {
     "name": "stdout",
     "output_type": "stream",
     "text": [
      "[[[   0  720]\n",
      "  [1280  720]\n",
      "  [ 640  432]]]\n"
     ]
    },
    {
     "name": "stderr",
     "output_type": "stream",
     "text": [
      "\n",
      "\n",
      "\n",
      "t:   7%|▋         | 17/251 [00:10<02:30,  1.56it/s, now=None]\u001b[A\u001b[A\u001b[A"
     ]
    },
    {
     "name": "stdout",
     "output_type": "stream",
     "text": [
      "[[[   0  720]\n",
      "  [1280  720]\n",
      "  [ 640  432]]]\n"
     ]
    },
    {
     "name": "stderr",
     "output_type": "stream",
     "text": [
      "\n",
      "\n",
      "\n",
      "t:   7%|▋         | 18/251 [00:11<02:30,  1.55it/s, now=None]\u001b[A\u001b[A\u001b[A"
     ]
    },
    {
     "name": "stdout",
     "output_type": "stream",
     "text": [
      "[[[   0  720]\n",
      "  [1280  720]\n",
      "  [ 640  432]]]\n"
     ]
    },
    {
     "name": "stderr",
     "output_type": "stream",
     "text": [
      "\n",
      "\n",
      "\n",
      "t:   8%|▊         | 19/251 [00:11<02:31,  1.53it/s, now=None]\u001b[A\u001b[A\u001b[A"
     ]
    },
    {
     "name": "stdout",
     "output_type": "stream",
     "text": [
      "[[[   0  720]\n",
      "  [1280  720]\n",
      "  [ 640  432]]]\n"
     ]
    },
    {
     "name": "stderr",
     "output_type": "stream",
     "text": [
      "\n",
      "\n",
      "\n",
      "t:   8%|▊         | 20/251 [00:12<02:30,  1.54it/s, now=None]\u001b[A\u001b[A\u001b[A"
     ]
    },
    {
     "name": "stdout",
     "output_type": "stream",
     "text": [
      "[[[   0  720]\n",
      "  [1280  720]\n",
      "  [ 640  432]]]\n"
     ]
    },
    {
     "name": "stderr",
     "output_type": "stream",
     "text": [
      "\n",
      "\n",
      "\n",
      "t:   8%|▊         | 21/251 [00:13<02:29,  1.54it/s, now=None]\u001b[A\u001b[A\u001b[A"
     ]
    },
    {
     "name": "stdout",
     "output_type": "stream",
     "text": [
      "[[[   0  720]\n",
      "  [1280  720]\n",
      "  [ 640  432]]]\n"
     ]
    },
    {
     "name": "stderr",
     "output_type": "stream",
     "text": [
      "\n",
      "\n",
      "\n",
      "t:   9%|▉         | 22/251 [00:13<02:29,  1.53it/s, now=None]\u001b[A\u001b[A\u001b[A"
     ]
    },
    {
     "name": "stdout",
     "output_type": "stream",
     "text": [
      "[[[   0  720]\n",
      "  [1280  720]\n",
      "  [ 640  432]]]\n"
     ]
    },
    {
     "name": "stderr",
     "output_type": "stream",
     "text": [
      "\n",
      "\n",
      "\n",
      "t:   9%|▉         | 23/251 [00:14<02:27,  1.54it/s, now=None]\u001b[A\u001b[A\u001b[A"
     ]
    },
    {
     "name": "stdout",
     "output_type": "stream",
     "text": [
      "[[[   0  720]\n",
      "  [1280  720]\n",
      "  [ 640  432]]]\n"
     ]
    },
    {
     "name": "stderr",
     "output_type": "stream",
     "text": [
      "\n",
      "\n",
      "\n",
      "t:  10%|▉         | 24/251 [00:14<02:26,  1.55it/s, now=None]\u001b[A\u001b[A\u001b[A"
     ]
    },
    {
     "name": "stdout",
     "output_type": "stream",
     "text": [
      "[[[   0  720]\n",
      "  [1280  720]\n",
      "  [ 640  432]]]\n"
     ]
    },
    {
     "name": "stderr",
     "output_type": "stream",
     "text": [
      "\n",
      "\n",
      "\n",
      "t:  10%|▉         | 25/251 [00:15<02:26,  1.55it/s, now=None]\u001b[A\u001b[A\u001b[A"
     ]
    },
    {
     "name": "stdout",
     "output_type": "stream",
     "text": [
      "[[[   0  720]\n",
      "  [1280  720]\n",
      "  [ 640  432]]]\n"
     ]
    },
    {
     "name": "stderr",
     "output_type": "stream",
     "text": [
      "\n",
      "\n",
      "\n",
      "t:  10%|█         | 26/251 [00:16<02:25,  1.55it/s, now=None]\u001b[A\u001b[A\u001b[A"
     ]
    },
    {
     "name": "stdout",
     "output_type": "stream",
     "text": [
      "[[[   0  720]\n",
      "  [1280  720]\n",
      "  [ 640  432]]]\n"
     ]
    },
    {
     "name": "stderr",
     "output_type": "stream",
     "text": [
      "\n",
      "\n",
      "\n",
      "t:  11%|█         | 27/251 [00:16<02:24,  1.55it/s, now=None]\u001b[A\u001b[A\u001b[A"
     ]
    },
    {
     "name": "stdout",
     "output_type": "stream",
     "text": [
      "[[[   0  720]\n",
      "  [1280  720]\n",
      "  [ 640  432]]]\n"
     ]
    },
    {
     "name": "stderr",
     "output_type": "stream",
     "text": [
      "\n",
      "\n",
      "\n",
      "t:  11%|█         | 28/251 [00:17<02:23,  1.55it/s, now=None]\u001b[A\u001b[A\u001b[A"
     ]
    },
    {
     "name": "stdout",
     "output_type": "stream",
     "text": [
      "[[[   0  720]\n",
      "  [1280  720]\n",
      "  [ 640  432]]]\n"
     ]
    },
    {
     "name": "stderr",
     "output_type": "stream",
     "text": [
      "\n",
      "\n",
      "\n",
      "t:  12%|█▏        | 29/251 [00:18<02:23,  1.55it/s, now=None]\u001b[A\u001b[A\u001b[A"
     ]
    },
    {
     "name": "stdout",
     "output_type": "stream",
     "text": [
      "[[[   0  720]\n",
      "  [1280  720]\n",
      "  [ 640  432]]]\n"
     ]
    },
    {
     "name": "stderr",
     "output_type": "stream",
     "text": [
      "\n",
      "\n",
      "\n",
      "t:  12%|█▏        | 30/251 [00:18<02:27,  1.50it/s, now=None]\u001b[A\u001b[A\u001b[A"
     ]
    },
    {
     "name": "stdout",
     "output_type": "stream",
     "text": [
      "[[[   0  720]\n",
      "  [1280  720]\n",
      "  [ 640  432]]]\n"
     ]
    },
    {
     "name": "stderr",
     "output_type": "stream",
     "text": [
      "\n",
      "\n",
      "\n",
      "t:  12%|█▏        | 31/251 [00:19<02:28,  1.48it/s, now=None]\u001b[A\u001b[A\u001b[A"
     ]
    },
    {
     "name": "stdout",
     "output_type": "stream",
     "text": [
      "[[[   0  720]\n",
      "  [1280  720]\n",
      "  [ 640  432]]]\n"
     ]
    },
    {
     "name": "stderr",
     "output_type": "stream",
     "text": [
      "\n",
      "\n",
      "\n",
      "t:  13%|█▎        | 32/251 [00:20<02:26,  1.50it/s, now=None]\u001b[A\u001b[A\u001b[A"
     ]
    },
    {
     "name": "stdout",
     "output_type": "stream",
     "text": [
      "[[[   0  720]\n",
      "  [1280  720]\n",
      "  [ 640  432]]]\n"
     ]
    },
    {
     "name": "stderr",
     "output_type": "stream",
     "text": [
      "\n",
      "\n",
      "\n",
      "t:  13%|█▎        | 33/251 [00:20<02:24,  1.51it/s, now=None]\u001b[A\u001b[A\u001b[A"
     ]
    },
    {
     "name": "stdout",
     "output_type": "stream",
     "text": [
      "[[[   0  720]\n",
      "  [1280  720]\n",
      "  [ 640  432]]]\n"
     ]
    },
    {
     "name": "stderr",
     "output_type": "stream",
     "text": [
      "\n",
      "\n",
      "\n",
      "t:  14%|█▎        | 34/251 [00:21<02:23,  1.51it/s, now=None]\u001b[A\u001b[A\u001b[A"
     ]
    },
    {
     "name": "stdout",
     "output_type": "stream",
     "text": [
      "[[[   0  720]\n",
      "  [1280  720]\n",
      "  [ 640  432]]]\n"
     ]
    },
    {
     "name": "stderr",
     "output_type": "stream",
     "text": [
      "\n",
      "\n",
      "\n",
      "t:  14%|█▍        | 35/251 [00:22<02:23,  1.51it/s, now=None]\u001b[A\u001b[A\u001b[A"
     ]
    },
    {
     "name": "stdout",
     "output_type": "stream",
     "text": [
      "[[[   0  720]\n",
      "  [1280  720]\n",
      "  [ 640  432]]]\n"
     ]
    },
    {
     "name": "stderr",
     "output_type": "stream",
     "text": [
      "\n",
      "\n",
      "\n",
      "t:  14%|█▍        | 36/251 [00:22<02:21,  1.51it/s, now=None]\u001b[A\u001b[A\u001b[A"
     ]
    },
    {
     "name": "stdout",
     "output_type": "stream",
     "text": [
      "[[[   0  720]\n",
      "  [1280  720]\n",
      "  [ 640  432]]]\n"
     ]
    },
    {
     "name": "stderr",
     "output_type": "stream",
     "text": [
      "\n",
      "\n",
      "\n",
      "t:  15%|█▍        | 37/251 [00:23<02:20,  1.53it/s, now=None]\u001b[A\u001b[A\u001b[A"
     ]
    },
    {
     "name": "stdout",
     "output_type": "stream",
     "text": [
      "[[[   0  720]\n",
      "  [1280  720]\n",
      "  [ 640  432]]]\n"
     ]
    },
    {
     "name": "stderr",
     "output_type": "stream",
     "text": [
      "\n",
      "\n",
      "\n",
      "t:  15%|█▌        | 38/251 [00:24<02:18,  1.54it/s, now=None]\u001b[A\u001b[A\u001b[A"
     ]
    },
    {
     "name": "stdout",
     "output_type": "stream",
     "text": [
      "[[[   0  720]\n",
      "  [1280  720]\n",
      "  [ 640  432]]]\n"
     ]
    },
    {
     "name": "stderr",
     "output_type": "stream",
     "text": [
      "\n",
      "\n",
      "\n",
      "t:  16%|█▌        | 39/251 [00:24<02:17,  1.55it/s, now=None]\u001b[A\u001b[A\u001b[A"
     ]
    },
    {
     "name": "stdout",
     "output_type": "stream",
     "text": [
      "[[[   0  720]\n",
      "  [1280  720]\n",
      "  [ 640  432]]]\n"
     ]
    },
    {
     "name": "stderr",
     "output_type": "stream",
     "text": [
      "\n",
      "\n",
      "\n",
      "t:  16%|█▌        | 40/251 [00:25<02:17,  1.54it/s, now=None]\u001b[A\u001b[A\u001b[A"
     ]
    },
    {
     "name": "stdout",
     "output_type": "stream",
     "text": [
      "[[[   0  720]\n",
      "  [1280  720]\n",
      "  [ 640  432]]]\n"
     ]
    },
    {
     "name": "stderr",
     "output_type": "stream",
     "text": [
      "\n",
      "\n",
      "\n",
      "t:  16%|█▋        | 41/251 [00:26<02:16,  1.54it/s, now=None]\u001b[A\u001b[A\u001b[A"
     ]
    },
    {
     "name": "stdout",
     "output_type": "stream",
     "text": [
      "[[[   0  720]\n",
      "  [1280  720]\n",
      "  [ 640  432]]]\n"
     ]
    },
    {
     "name": "stderr",
     "output_type": "stream",
     "text": [
      "\n",
      "\n",
      "\n",
      "t:  17%|█▋        | 42/251 [00:26<02:15,  1.54it/s, now=None]\u001b[A\u001b[A\u001b[A"
     ]
    },
    {
     "name": "stdout",
     "output_type": "stream",
     "text": [
      "[[[   0  720]\n",
      "  [1280  720]\n",
      "  [ 640  432]]]\n"
     ]
    },
    {
     "name": "stderr",
     "output_type": "stream",
     "text": [
      "\n",
      "\n",
      "\n",
      "t:  17%|█▋        | 43/251 [00:27<02:14,  1.54it/s, now=None]\u001b[A\u001b[A\u001b[A"
     ]
    },
    {
     "name": "stdout",
     "output_type": "stream",
     "text": [
      "[[[   0  720]\n",
      "  [1280  720]\n",
      "  [ 640  432]]]\n"
     ]
    },
    {
     "name": "stderr",
     "output_type": "stream",
     "text": [
      "\n",
      "\n",
      "\n",
      "t:  18%|█▊        | 44/251 [00:28<02:13,  1.55it/s, now=None]\u001b[A\u001b[A\u001b[A"
     ]
    },
    {
     "name": "stdout",
     "output_type": "stream",
     "text": [
      "[[[   0  720]\n",
      "  [1280  720]\n",
      "  [ 640  432]]]\n"
     ]
    },
    {
     "name": "stderr",
     "output_type": "stream",
     "text": [
      "\n",
      "\n",
      "\n",
      "t:  18%|█▊        | 45/251 [00:28<02:13,  1.54it/s, now=None]\u001b[A\u001b[A\u001b[A"
     ]
    },
    {
     "name": "stdout",
     "output_type": "stream",
     "text": [
      "[[[   0  720]\n",
      "  [1280  720]\n",
      "  [ 640  432]]]\n"
     ]
    },
    {
     "name": "stderr",
     "output_type": "stream",
     "text": [
      "\n",
      "\n",
      "\n",
      "t:  18%|█▊        | 46/251 [00:29<02:13,  1.54it/s, now=None]\u001b[A\u001b[A\u001b[A"
     ]
    },
    {
     "name": "stdout",
     "output_type": "stream",
     "text": [
      "[[[   0  720]\n",
      "  [1280  720]\n",
      "  [ 640  432]]]\n"
     ]
    },
    {
     "name": "stderr",
     "output_type": "stream",
     "text": [
      "\n",
      "\n",
      "\n",
      "t:  19%|█▊        | 47/251 [00:30<02:12,  1.54it/s, now=None]\u001b[A\u001b[A\u001b[A"
     ]
    },
    {
     "name": "stdout",
     "output_type": "stream",
     "text": [
      "[[[   0  720]\n",
      "  [1280  720]\n",
      "  [ 640  432]]]\n"
     ]
    },
    {
     "name": "stderr",
     "output_type": "stream",
     "text": [
      "\n",
      "\n",
      "\n",
      "t:  19%|█▉        | 48/251 [00:30<02:11,  1.54it/s, now=None]\u001b[A\u001b[A\u001b[A"
     ]
    },
    {
     "name": "stdout",
     "output_type": "stream",
     "text": [
      "[[[   0  720]\n",
      "  [1280  720]\n",
      "  [ 640  432]]]\n"
     ]
    },
    {
     "name": "stderr",
     "output_type": "stream",
     "text": [
      "\n",
      "\n",
      "\n",
      "t:  20%|█▉        | 49/251 [00:31<02:11,  1.54it/s, now=None]\u001b[A\u001b[A\u001b[A"
     ]
    },
    {
     "name": "stdout",
     "output_type": "stream",
     "text": [
      "[[[   0  720]\n",
      "  [1280  720]\n",
      "  [ 640  432]]]\n"
     ]
    },
    {
     "name": "stderr",
     "output_type": "stream",
     "text": [
      "\n",
      "\n",
      "\n",
      "t:  20%|█▉        | 50/251 [00:32<02:11,  1.53it/s, now=None]\u001b[A\u001b[A\u001b[A"
     ]
    },
    {
     "name": "stdout",
     "output_type": "stream",
     "text": [
      "[[[   0  720]\n",
      "  [1280  720]\n",
      "  [ 640  432]]]\n"
     ]
    },
    {
     "name": "stderr",
     "output_type": "stream",
     "text": [
      "\n",
      "\n",
      "\n",
      "t:  20%|██        | 51/251 [00:32<02:11,  1.53it/s, now=None]\u001b[A\u001b[A\u001b[A"
     ]
    },
    {
     "name": "stdout",
     "output_type": "stream",
     "text": [
      "[[[   0  720]\n",
      "  [1280  720]\n",
      "  [ 640  432]]]\n"
     ]
    },
    {
     "name": "stderr",
     "output_type": "stream",
     "text": [
      "\n",
      "\n",
      "\n",
      "t:  21%|██        | 52/251 [00:33<02:10,  1.53it/s, now=None]\u001b[A\u001b[A\u001b[A"
     ]
    },
    {
     "name": "stdout",
     "output_type": "stream",
     "text": [
      "[[[   0  720]\n",
      "  [1280  720]\n",
      "  [ 640  432]]]\n"
     ]
    },
    {
     "name": "stderr",
     "output_type": "stream",
     "text": [
      "\n",
      "\n",
      "\n",
      "t:  21%|██        | 53/251 [00:33<02:10,  1.52it/s, now=None]\u001b[A\u001b[A\u001b[A"
     ]
    },
    {
     "name": "stdout",
     "output_type": "stream",
     "text": [
      "[[[   0  720]\n",
      "  [1280  720]\n",
      "  [ 640  432]]]\n"
     ]
    },
    {
     "name": "stderr",
     "output_type": "stream",
     "text": [
      "\n",
      "\n",
      "\n",
      "t:  22%|██▏       | 54/251 [00:34<02:09,  1.52it/s, now=None]\u001b[A\u001b[A\u001b[A"
     ]
    },
    {
     "name": "stdout",
     "output_type": "stream",
     "text": [
      "[[[   0  720]\n",
      "  [1280  720]\n",
      "  [ 640  432]]]\n"
     ]
    },
    {
     "name": "stderr",
     "output_type": "stream",
     "text": [
      "\n",
      "\n",
      "\n",
      "t:  22%|██▏       | 55/251 [00:35<02:09,  1.52it/s, now=None]\u001b[A\u001b[A\u001b[A"
     ]
    },
    {
     "name": "stdout",
     "output_type": "stream",
     "text": [
      "[[[   0  720]\n",
      "  [1280  720]\n",
      "  [ 640  432]]]\n"
     ]
    },
    {
     "name": "stderr",
     "output_type": "stream",
     "text": [
      "\n",
      "\n",
      "\n",
      "t:  22%|██▏       | 56/251 [00:35<02:08,  1.52it/s, now=None]\u001b[A\u001b[A\u001b[A"
     ]
    },
    {
     "name": "stdout",
     "output_type": "stream",
     "text": [
      "[[[   0  720]\n",
      "  [1280  720]\n",
      "  [ 640  432]]]\n"
     ]
    },
    {
     "name": "stderr",
     "output_type": "stream",
     "text": [
      "\n",
      "\n",
      "\n",
      "t:  23%|██▎       | 57/251 [00:36<02:07,  1.52it/s, now=None]\u001b[A\u001b[A\u001b[A"
     ]
    },
    {
     "name": "stdout",
     "output_type": "stream",
     "text": [
      "[[[   0  720]\n",
      "  [1280  720]\n",
      "  [ 640  432]]]\n"
     ]
    },
    {
     "name": "stderr",
     "output_type": "stream",
     "text": [
      "\n",
      "\n",
      "\n",
      "t:  23%|██▎       | 58/251 [00:37<02:06,  1.52it/s, now=None]\u001b[A\u001b[A\u001b[A"
     ]
    },
    {
     "name": "stdout",
     "output_type": "stream",
     "text": [
      "[[[   0  720]\n",
      "  [1280  720]\n",
      "  [ 640  432]]]\n"
     ]
    },
    {
     "name": "stderr",
     "output_type": "stream",
     "text": [
      "\n",
      "\n",
      "\n",
      "t:  24%|██▎       | 59/251 [00:37<02:06,  1.52it/s, now=None]\u001b[A\u001b[A\u001b[A"
     ]
    },
    {
     "name": "stdout",
     "output_type": "stream",
     "text": [
      "[[[   0  720]\n",
      "  [1280  720]\n",
      "  [ 640  432]]]\n"
     ]
    },
    {
     "name": "stderr",
     "output_type": "stream",
     "text": [
      "\n",
      "\n",
      "\n",
      "t:  24%|██▍       | 60/251 [00:38<02:05,  1.52it/s, now=None]\u001b[A\u001b[A\u001b[A"
     ]
    },
    {
     "name": "stdout",
     "output_type": "stream",
     "text": [
      "[[[   0  720]\n",
      "  [1280  720]\n",
      "  [ 640  432]]]\n"
     ]
    },
    {
     "name": "stderr",
     "output_type": "stream",
     "text": [
      "\n",
      "\n",
      "\n",
      "t:  24%|██▍       | 61/251 [00:39<02:05,  1.51it/s, now=None]\u001b[A\u001b[A\u001b[A"
     ]
    },
    {
     "name": "stdout",
     "output_type": "stream",
     "text": [
      "[[[   0  720]\n",
      "  [1280  720]\n",
      "  [ 640  432]]]\n"
     ]
    },
    {
     "name": "stderr",
     "output_type": "stream",
     "text": [
      "\n",
      "\n",
      "\n",
      "t:  25%|██▍       | 62/251 [00:39<02:04,  1.52it/s, now=None]\u001b[A\u001b[A\u001b[A"
     ]
    },
    {
     "name": "stdout",
     "output_type": "stream",
     "text": [
      "[[[   0  720]\n",
      "  [1280  720]\n",
      "  [ 640  432]]]\n"
     ]
    },
    {
     "name": "stderr",
     "output_type": "stream",
     "text": [
      "\n",
      "\n",
      "\n",
      "t:  25%|██▌       | 63/251 [00:40<02:04,  1.51it/s, now=None]\u001b[A\u001b[A\u001b[A"
     ]
    },
    {
     "name": "stdout",
     "output_type": "stream",
     "text": [
      "[[[   0  720]\n",
      "  [1280  720]\n",
      "  [ 640  432]]]\n"
     ]
    },
    {
     "name": "stderr",
     "output_type": "stream",
     "text": [
      "\n",
      "\n",
      "\n",
      "t:  25%|██▌       | 64/251 [00:41<02:03,  1.52it/s, now=None]\u001b[A\u001b[A\u001b[A"
     ]
    },
    {
     "name": "stdout",
     "output_type": "stream",
     "text": [
      "[[[   0  720]\n",
      "  [1280  720]\n",
      "  [ 640  432]]]\n"
     ]
    },
    {
     "name": "stderr",
     "output_type": "stream",
     "text": [
      "\n",
      "\n",
      "\n",
      "t:  26%|██▌       | 65/251 [00:41<02:03,  1.51it/s, now=None]\u001b[A\u001b[A\u001b[A"
     ]
    },
    {
     "name": "stdout",
     "output_type": "stream",
     "text": [
      "[[[   0  720]\n",
      "  [1280  720]\n",
      "  [ 640  432]]]\n"
     ]
    },
    {
     "name": "stderr",
     "output_type": "stream",
     "text": [
      "\n",
      "\n",
      "\n",
      "t:  26%|██▋       | 66/251 [00:42<02:03,  1.50it/s, now=None]\u001b[A\u001b[A\u001b[A"
     ]
    },
    {
     "name": "stdout",
     "output_type": "stream",
     "text": [
      "[[[   0  720]\n",
      "  [1280  720]\n",
      "  [ 640  432]]]\n"
     ]
    },
    {
     "name": "stderr",
     "output_type": "stream",
     "text": [
      "\n",
      "\n",
      "\n",
      "t:  27%|██▋       | 67/251 [00:43<02:01,  1.51it/s, now=None]\u001b[A\u001b[A\u001b[A"
     ]
    },
    {
     "name": "stdout",
     "output_type": "stream",
     "text": [
      "[[[   0  720]\n",
      "  [1280  720]\n",
      "  [ 640  432]]]\n"
     ]
    },
    {
     "name": "stderr",
     "output_type": "stream",
     "text": [
      "\n",
      "\n",
      "\n",
      "t:  27%|██▋       | 68/251 [00:43<02:00,  1.52it/s, now=None]\u001b[A\u001b[A\u001b[A"
     ]
    },
    {
     "name": "stdout",
     "output_type": "stream",
     "text": [
      "[[[   0  720]\n",
      "  [1280  720]\n",
      "  [ 640  432]]]\n"
     ]
    },
    {
     "name": "stderr",
     "output_type": "stream",
     "text": [
      "\n",
      "\n",
      "\n",
      "t:  27%|██▋       | 69/251 [00:44<02:00,  1.51it/s, now=None]\u001b[A\u001b[A\u001b[A"
     ]
    },
    {
     "name": "stdout",
     "output_type": "stream",
     "text": [
      "[[[   0  720]\n",
      "  [1280  720]\n",
      "  [ 640  432]]]\n"
     ]
    },
    {
     "name": "stderr",
     "output_type": "stream",
     "text": [
      "\n",
      "\n",
      "\n",
      "t:  28%|██▊       | 70/251 [00:45<02:00,  1.51it/s, now=None]\u001b[A\u001b[A\u001b[A"
     ]
    },
    {
     "name": "stdout",
     "output_type": "stream",
     "text": [
      "[[[   0  720]\n",
      "  [1280  720]\n",
      "  [ 640  432]]]\n"
     ]
    },
    {
     "name": "stderr",
     "output_type": "stream",
     "text": [
      "\n",
      "\n",
      "\n",
      "t:  28%|██▊       | 71/251 [00:45<01:58,  1.52it/s, now=None]\u001b[A\u001b[A\u001b[A"
     ]
    },
    {
     "name": "stdout",
     "output_type": "stream",
     "text": [
      "[[[   0  720]\n",
      "  [1280  720]\n",
      "  [ 640  432]]]\n"
     ]
    },
    {
     "name": "stderr",
     "output_type": "stream",
     "text": [
      "\n",
      "\n",
      "\n",
      "t:  29%|██▊       | 72/251 [00:46<01:57,  1.52it/s, now=None]\u001b[A\u001b[A\u001b[A"
     ]
    },
    {
     "name": "stdout",
     "output_type": "stream",
     "text": [
      "[[[   0  720]\n",
      "  [1280  720]\n",
      "  [ 640  432]]]\n"
     ]
    },
    {
     "name": "stderr",
     "output_type": "stream",
     "text": [
      "\n",
      "\n",
      "\n",
      "t:  29%|██▉       | 73/251 [00:47<01:57,  1.52it/s, now=None]\u001b[A\u001b[A\u001b[A"
     ]
    },
    {
     "name": "stdout",
     "output_type": "stream",
     "text": [
      "[[[   0  720]\n",
      "  [1280  720]\n",
      "  [ 640  432]]]\n"
     ]
    },
    {
     "name": "stderr",
     "output_type": "stream",
     "text": [
      "\n",
      "\n",
      "\n",
      "t:  29%|██▉       | 74/251 [00:47<01:57,  1.51it/s, now=None]\u001b[A\u001b[A\u001b[A"
     ]
    },
    {
     "name": "stdout",
     "output_type": "stream",
     "text": [
      "[[[   0  720]\n",
      "  [1280  720]\n",
      "  [ 640  432]]]\n"
     ]
    },
    {
     "name": "stderr",
     "output_type": "stream",
     "text": [
      "\n",
      "\n",
      "\n",
      "t:  30%|██▉       | 75/251 [00:48<01:56,  1.52it/s, now=None]\u001b[A\u001b[A\u001b[A"
     ]
    },
    {
     "name": "stdout",
     "output_type": "stream",
     "text": [
      "[[[   0  720]\n",
      "  [1280  720]\n",
      "  [ 640  432]]]\n"
     ]
    },
    {
     "name": "stderr",
     "output_type": "stream",
     "text": [
      "\n",
      "\n",
      "\n",
      "t:  30%|███       | 76/251 [00:49<01:55,  1.52it/s, now=None]\u001b[A\u001b[A\u001b[A"
     ]
    },
    {
     "name": "stdout",
     "output_type": "stream",
     "text": [
      "[[[   0  720]\n",
      "  [1280  720]\n",
      "  [ 640  432]]]\n"
     ]
    },
    {
     "name": "stderr",
     "output_type": "stream",
     "text": [
      "\n",
      "\n",
      "\n",
      "t:  31%|███       | 77/251 [00:49<01:55,  1.50it/s, now=None]\u001b[A\u001b[A\u001b[A"
     ]
    },
    {
     "name": "stdout",
     "output_type": "stream",
     "text": [
      "[[[   0  720]\n",
      "  [1280  720]\n",
      "  [ 640  432]]]\n"
     ]
    },
    {
     "name": "stderr",
     "output_type": "stream",
     "text": [
      "\n",
      "\n",
      "\n",
      "t:  31%|███       | 78/251 [00:50<01:54,  1.51it/s, now=None]\u001b[A\u001b[A\u001b[A"
     ]
    },
    {
     "name": "stdout",
     "output_type": "stream",
     "text": [
      "[[[   0  720]\n",
      "  [1280  720]\n",
      "  [ 640  432]]]\n"
     ]
    },
    {
     "name": "stderr",
     "output_type": "stream",
     "text": [
      "\n",
      "\n",
      "\n",
      "t:  31%|███▏      | 79/251 [00:51<01:53,  1.51it/s, now=None]\u001b[A\u001b[A\u001b[A"
     ]
    },
    {
     "name": "stdout",
     "output_type": "stream",
     "text": [
      "[[[   0  720]\n",
      "  [1280  720]\n",
      "  [ 640  432]]]\n"
     ]
    },
    {
     "name": "stderr",
     "output_type": "stream",
     "text": [
      "\n",
      "\n",
      "\n",
      "t:  32%|███▏      | 80/251 [00:51<01:52,  1.52it/s, now=None]\u001b[A\u001b[A\u001b[A"
     ]
    },
    {
     "name": "stdout",
     "output_type": "stream",
     "text": [
      "[[[   0  720]\n",
      "  [1280  720]\n",
      "  [ 640  432]]]\n"
     ]
    },
    {
     "name": "stderr",
     "output_type": "stream",
     "text": [
      "\n",
      "\n",
      "\n",
      "t:  32%|███▏      | 81/251 [00:52<01:52,  1.51it/s, now=None]\u001b[A\u001b[A\u001b[A"
     ]
    },
    {
     "name": "stdout",
     "output_type": "stream",
     "text": [
      "[[[   0  720]\n",
      "  [1280  720]\n",
      "  [ 640  432]]]\n"
     ]
    },
    {
     "name": "stderr",
     "output_type": "stream",
     "text": [
      "\n",
      "\n",
      "\n",
      "t:  33%|███▎      | 82/251 [00:53<01:51,  1.51it/s, now=None]\u001b[A\u001b[A\u001b[A"
     ]
    },
    {
     "name": "stdout",
     "output_type": "stream",
     "text": [
      "[[[   0  720]\n",
      "  [1280  720]\n",
      "  [ 640  432]]]\n"
     ]
    },
    {
     "name": "stderr",
     "output_type": "stream",
     "text": [
      "\n",
      "\n",
      "\n",
      "t:  33%|███▎      | 83/251 [00:53<01:50,  1.52it/s, now=None]\u001b[A\u001b[A\u001b[A"
     ]
    },
    {
     "name": "stdout",
     "output_type": "stream",
     "text": [
      "[[[   0  720]\n",
      "  [1280  720]\n",
      "  [ 640  432]]]\n"
     ]
    },
    {
     "name": "stderr",
     "output_type": "stream",
     "text": [
      "\n",
      "\n",
      "\n",
      "t:  33%|███▎      | 84/251 [00:54<01:50,  1.51it/s, now=None]\u001b[A\u001b[A\u001b[A"
     ]
    },
    {
     "name": "stdout",
     "output_type": "stream",
     "text": [
      "[[[   0  720]\n",
      "  [1280  720]\n",
      "  [ 640  432]]]\n"
     ]
    },
    {
     "name": "stderr",
     "output_type": "stream",
     "text": [
      "\n",
      "\n",
      "\n",
      "t:  34%|███▍      | 85/251 [00:55<01:49,  1.51it/s, now=None]\u001b[A\u001b[A\u001b[A"
     ]
    },
    {
     "name": "stdout",
     "output_type": "stream",
     "text": [
      "[[[   0  720]\n",
      "  [1280  720]\n",
      "  [ 640  432]]]\n"
     ]
    },
    {
     "name": "stderr",
     "output_type": "stream",
     "text": [
      "\n",
      "\n",
      "\n",
      "t:  34%|███▍      | 86/251 [00:55<01:48,  1.52it/s, now=None]\u001b[A\u001b[A\u001b[A"
     ]
    },
    {
     "name": "stdout",
     "output_type": "stream",
     "text": [
      "[[[   0  720]\n",
      "  [1280  720]\n",
      "  [ 640  432]]]\n"
     ]
    },
    {
     "name": "stderr",
     "output_type": "stream",
     "text": [
      "\n",
      "\n",
      "\n",
      "t:  35%|███▍      | 87/251 [00:56<01:47,  1.53it/s, now=None]\u001b[A\u001b[A\u001b[A"
     ]
    },
    {
     "name": "stdout",
     "output_type": "stream",
     "text": [
      "[[[   0  720]\n",
      "  [1280  720]\n",
      "  [ 640  432]]]\n"
     ]
    },
    {
     "name": "stderr",
     "output_type": "stream",
     "text": [
      "\n",
      "\n",
      "\n",
      "t:  35%|███▌      | 88/251 [00:57<01:46,  1.53it/s, now=None]\u001b[A\u001b[A\u001b[A"
     ]
    },
    {
     "name": "stdout",
     "output_type": "stream",
     "text": [
      "[[[   0  720]\n",
      "  [1280  720]\n",
      "  [ 640  432]]]\n"
     ]
    },
    {
     "name": "stderr",
     "output_type": "stream",
     "text": [
      "\n",
      "\n",
      "\n",
      "t:  35%|███▌      | 89/251 [00:57<01:46,  1.52it/s, now=None]\u001b[A\u001b[A\u001b[A"
     ]
    },
    {
     "name": "stdout",
     "output_type": "stream",
     "text": [
      "[[[   0  720]\n",
      "  [1280  720]\n",
      "  [ 640  432]]]\n"
     ]
    },
    {
     "name": "stderr",
     "output_type": "stream",
     "text": [
      "\n",
      "\n",
      "\n",
      "t:  36%|███▌      | 90/251 [00:58<01:45,  1.53it/s, now=None]\u001b[A\u001b[A\u001b[A"
     ]
    },
    {
     "name": "stdout",
     "output_type": "stream",
     "text": [
      "[[[   0  720]\n",
      "  [1280  720]\n",
      "  [ 640  432]]]\n"
     ]
    },
    {
     "name": "stderr",
     "output_type": "stream",
     "text": [
      "\n",
      "\n",
      "\n",
      "t:  36%|███▋      | 91/251 [00:59<01:44,  1.53it/s, now=None]\u001b[A\u001b[A\u001b[A"
     ]
    },
    {
     "name": "stdout",
     "output_type": "stream",
     "text": [
      "[[[   0  720]\n",
      "  [1280  720]\n",
      "  [ 640  432]]]\n"
     ]
    },
    {
     "name": "stderr",
     "output_type": "stream",
     "text": [
      "\n",
      "\n",
      "\n",
      "t:  37%|███▋      | 92/251 [00:59<01:44,  1.52it/s, now=None]\u001b[A\u001b[A\u001b[A"
     ]
    },
    {
     "name": "stdout",
     "output_type": "stream",
     "text": [
      "[[[   0  720]\n",
      "  [1280  720]\n",
      "  [ 640  432]]]\n"
     ]
    },
    {
     "name": "stderr",
     "output_type": "stream",
     "text": [
      "\n",
      "\n",
      "\n",
      "t:  37%|███▋      | 93/251 [01:00<01:44,  1.51it/s, now=None]\u001b[A\u001b[A\u001b[A"
     ]
    },
    {
     "name": "stdout",
     "output_type": "stream",
     "text": [
      "[[[   0  720]\n",
      "  [1280  720]\n",
      "  [ 640  432]]]\n"
     ]
    },
    {
     "name": "stderr",
     "output_type": "stream",
     "text": [
      "\n",
      "\n",
      "\n",
      "t:  37%|███▋      | 94/251 [01:00<01:42,  1.53it/s, now=None]\u001b[A\u001b[A\u001b[A"
     ]
    },
    {
     "name": "stdout",
     "output_type": "stream",
     "text": [
      "[[[   0  720]\n",
      "  [1280  720]\n",
      "  [ 640  432]]]\n"
     ]
    },
    {
     "name": "stderr",
     "output_type": "stream",
     "text": [
      "\n",
      "\n",
      "\n",
      "t:  38%|███▊      | 95/251 [01:01<01:41,  1.54it/s, now=None]\u001b[A\u001b[A\u001b[A"
     ]
    },
    {
     "name": "stdout",
     "output_type": "stream",
     "text": [
      "[[[   0  720]\n",
      "  [1280  720]\n",
      "  [ 640  432]]]\n"
     ]
    },
    {
     "name": "stderr",
     "output_type": "stream",
     "text": [
      "\n",
      "\n",
      "\n",
      "t:  38%|███▊      | 96/251 [01:02<01:40,  1.54it/s, now=None]\u001b[A\u001b[A\u001b[A"
     ]
    },
    {
     "name": "stdout",
     "output_type": "stream",
     "text": [
      "[[[   0  720]\n",
      "  [1280  720]\n",
      "  [ 640  432]]]\n"
     ]
    },
    {
     "name": "stderr",
     "output_type": "stream",
     "text": [
      "\n",
      "\n",
      "\n",
      "t:  39%|███▊      | 97/251 [01:02<01:40,  1.53it/s, now=None]\u001b[A\u001b[A\u001b[A"
     ]
    },
    {
     "name": "stdout",
     "output_type": "stream",
     "text": [
      "[[[   0  720]\n",
      "  [1280  720]\n",
      "  [ 640  432]]]\n"
     ]
    },
    {
     "name": "stderr",
     "output_type": "stream",
     "text": [
      "\n",
      "\n",
      "\n",
      "t:  39%|███▉      | 98/251 [01:03<01:40,  1.53it/s, now=None]\u001b[A\u001b[A\u001b[A"
     ]
    },
    {
     "name": "stdout",
     "output_type": "stream",
     "text": [
      "[[[   0  720]\n",
      "  [1280  720]\n",
      "  [ 640  432]]]\n"
     ]
    },
    {
     "name": "stderr",
     "output_type": "stream",
     "text": [
      "\n",
      "\n",
      "\n",
      "t:  39%|███▉      | 99/251 [01:04<01:39,  1.53it/s, now=None]\u001b[A\u001b[A\u001b[A"
     ]
    },
    {
     "name": "stdout",
     "output_type": "stream",
     "text": [
      "[[[   0  720]\n",
      "  [1280  720]\n",
      "  [ 640  432]]]\n"
     ]
    },
    {
     "name": "stderr",
     "output_type": "stream",
     "text": [
      "\n",
      "\n",
      "\n",
      "t:  40%|███▉      | 100/251 [01:04<01:37,  1.54it/s, now=None]\u001b[A\u001b[A\u001b[A"
     ]
    },
    {
     "name": "stdout",
     "output_type": "stream",
     "text": [
      "[[[   0  720]\n",
      "  [1280  720]\n",
      "  [ 640  432]]]\n"
     ]
    },
    {
     "name": "stderr",
     "output_type": "stream",
     "text": [
      "\n",
      "\n",
      "\n",
      "t:  40%|████      | 101/251 [01:05<01:37,  1.53it/s, now=None]\u001b[A\u001b[A\u001b[A"
     ]
    },
    {
     "name": "stdout",
     "output_type": "stream",
     "text": [
      "[[[   0  720]\n",
      "  [1280  720]\n",
      "  [ 640  432]]]\n"
     ]
    },
    {
     "name": "stderr",
     "output_type": "stream",
     "text": [
      "\n",
      "\n",
      "\n",
      "t:  41%|████      | 102/251 [01:06<01:37,  1.53it/s, now=None]\u001b[A\u001b[A\u001b[A"
     ]
    },
    {
     "name": "stdout",
     "output_type": "stream",
     "text": [
      "[[[   0  720]\n",
      "  [1280  720]\n",
      "  [ 640  432]]]\n"
     ]
    },
    {
     "name": "stderr",
     "output_type": "stream",
     "text": [
      "\n",
      "\n",
      "\n",
      "t:  41%|████      | 103/251 [01:06<01:36,  1.53it/s, now=None]\u001b[A\u001b[A\u001b[A"
     ]
    },
    {
     "name": "stdout",
     "output_type": "stream",
     "text": [
      "[[[   0  720]\n",
      "  [1280  720]\n",
      "  [ 640  432]]]\n"
     ]
    },
    {
     "name": "stderr",
     "output_type": "stream",
     "text": [
      "\n",
      "\n",
      "\n",
      "t:  41%|████▏     | 104/251 [01:07<01:36,  1.53it/s, now=None]\u001b[A\u001b[A\u001b[A"
     ]
    },
    {
     "name": "stdout",
     "output_type": "stream",
     "text": [
      "[[[   0  720]\n",
      "  [1280  720]\n",
      "  [ 640  432]]]\n"
     ]
    },
    {
     "name": "stderr",
     "output_type": "stream",
     "text": [
      "\n",
      "\n",
      "\n",
      "t:  42%|████▏     | 105/251 [01:08<01:36,  1.52it/s, now=None]\u001b[A\u001b[A\u001b[A"
     ]
    },
    {
     "name": "stdout",
     "output_type": "stream",
     "text": [
      "[[[   0  720]\n",
      "  [1280  720]\n",
      "  [ 640  432]]]\n"
     ]
    },
    {
     "name": "stderr",
     "output_type": "stream",
     "text": [
      "\n",
      "\n",
      "\n",
      "t:  42%|████▏     | 106/251 [01:08<01:35,  1.51it/s, now=None]\u001b[A\u001b[A\u001b[A"
     ]
    },
    {
     "name": "stdout",
     "output_type": "stream",
     "text": [
      "[[[   0  720]\n",
      "  [1280  720]\n",
      "  [ 640  432]]]\n"
     ]
    },
    {
     "name": "stderr",
     "output_type": "stream",
     "text": [
      "\n",
      "\n",
      "\n",
      "t:  43%|████▎     | 107/251 [01:09<01:35,  1.51it/s, now=None]\u001b[A\u001b[A\u001b[A"
     ]
    },
    {
     "name": "stdout",
     "output_type": "stream",
     "text": [
      "[[[   0  720]\n",
      "  [1280  720]\n",
      "  [ 640  432]]]\n"
     ]
    },
    {
     "name": "stderr",
     "output_type": "stream",
     "text": [
      "\n",
      "\n",
      "\n",
      "t:  43%|████▎     | 108/251 [01:10<01:34,  1.52it/s, now=None]\u001b[A\u001b[A\u001b[A"
     ]
    },
    {
     "name": "stdout",
     "output_type": "stream",
     "text": [
      "[[[   0  720]\n",
      "  [1280  720]\n",
      "  [ 640  432]]]\n"
     ]
    },
    {
     "name": "stderr",
     "output_type": "stream",
     "text": [
      "\n",
      "\n",
      "\n",
      "t:  43%|████▎     | 109/251 [01:10<01:33,  1.51it/s, now=None]\u001b[A\u001b[A\u001b[A"
     ]
    },
    {
     "name": "stdout",
     "output_type": "stream",
     "text": [
      "[[[   0  720]\n",
      "  [1280  720]\n",
      "  [ 640  432]]]\n"
     ]
    },
    {
     "name": "stderr",
     "output_type": "stream",
     "text": [
      "\n",
      "\n",
      "\n",
      "t:  44%|████▍     | 110/251 [01:11<01:32,  1.53it/s, now=None]\u001b[A\u001b[A\u001b[A"
     ]
    },
    {
     "name": "stdout",
     "output_type": "stream",
     "text": [
      "[[[   0  720]\n",
      "  [1280  720]\n",
      "  [ 640  432]]]\n"
     ]
    },
    {
     "name": "stderr",
     "output_type": "stream",
     "text": [
      "\n",
      "\n",
      "\n",
      "t:  44%|████▍     | 111/251 [01:12<01:31,  1.53it/s, now=None]\u001b[A\u001b[A\u001b[A"
     ]
    },
    {
     "name": "stdout",
     "output_type": "stream",
     "text": [
      "[[[   0  720]\n",
      "  [1280  720]\n",
      "  [ 640  432]]]\n"
     ]
    },
    {
     "name": "stderr",
     "output_type": "stream",
     "text": [
      "\n",
      "\n",
      "\n",
      "t:  45%|████▍     | 112/251 [01:12<01:31,  1.53it/s, now=None]\u001b[A\u001b[A\u001b[A"
     ]
    },
    {
     "name": "stdout",
     "output_type": "stream",
     "text": [
      "[[[   0  720]\n",
      "  [1280  720]\n",
      "  [ 640  432]]]\n"
     ]
    },
    {
     "name": "stderr",
     "output_type": "stream",
     "text": [
      "\n",
      "\n",
      "\n",
      "t:  45%|████▌     | 113/251 [01:13<01:31,  1.51it/s, now=None]\u001b[A\u001b[A\u001b[A"
     ]
    },
    {
     "name": "stdout",
     "output_type": "stream",
     "text": [
      "[[[   0  720]\n",
      "  [1280  720]\n",
      "  [ 640  432]]]\n"
     ]
    },
    {
     "name": "stderr",
     "output_type": "stream",
     "text": [
      "\n",
      "\n",
      "\n",
      "t:  45%|████▌     | 114/251 [01:14<01:30,  1.52it/s, now=None]\u001b[A\u001b[A\u001b[A"
     ]
    },
    {
     "name": "stdout",
     "output_type": "stream",
     "text": [
      "[[[   0  720]\n",
      "  [1280  720]\n",
      "  [ 640  432]]]\n"
     ]
    },
    {
     "name": "stderr",
     "output_type": "stream",
     "text": [
      "\n",
      "\n",
      "\n",
      "t:  46%|████▌     | 115/251 [01:14<01:28,  1.53it/s, now=None]\u001b[A\u001b[A\u001b[A"
     ]
    },
    {
     "name": "stdout",
     "output_type": "stream",
     "text": [
      "[[[   0  720]\n",
      "  [1280  720]\n",
      "  [ 640  432]]]\n"
     ]
    },
    {
     "name": "stderr",
     "output_type": "stream",
     "text": [
      "\n",
      "\n",
      "\n",
      "t:  46%|████▌     | 116/251 [01:15<01:27,  1.54it/s, now=None]\u001b[A\u001b[A\u001b[A"
     ]
    },
    {
     "name": "stdout",
     "output_type": "stream",
     "text": [
      "[[[   0  720]\n",
      "  [1280  720]\n",
      "  [ 640  432]]]\n"
     ]
    },
    {
     "name": "stderr",
     "output_type": "stream",
     "text": [
      "\n",
      "\n",
      "\n",
      "t:  47%|████▋     | 117/251 [01:16<01:28,  1.52it/s, now=None]\u001b[A\u001b[A\u001b[A"
     ]
    },
    {
     "name": "stdout",
     "output_type": "stream",
     "text": [
      "[[[   0  720]\n",
      "  [1280  720]\n",
      "  [ 640  432]]]\n"
     ]
    },
    {
     "name": "stderr",
     "output_type": "stream",
     "text": [
      "\n",
      "\n",
      "\n",
      "t:  47%|████▋     | 118/251 [01:16<01:26,  1.53it/s, now=None]\u001b[A\u001b[A\u001b[A"
     ]
    },
    {
     "name": "stdout",
     "output_type": "stream",
     "text": [
      "[[[   0  720]\n",
      "  [1280  720]\n",
      "  [ 640  432]]]\n"
     ]
    },
    {
     "name": "stderr",
     "output_type": "stream",
     "text": [
      "\n",
      "\n",
      "\n",
      "t:  47%|████▋     | 119/251 [01:17<01:26,  1.53it/s, now=None]\u001b[A\u001b[A\u001b[A"
     ]
    },
    {
     "name": "stdout",
     "output_type": "stream",
     "text": [
      "[[[   0  720]\n",
      "  [1280  720]\n",
      "  [ 640  432]]]\n"
     ]
    },
    {
     "name": "stderr",
     "output_type": "stream",
     "text": [
      "\n",
      "\n",
      "\n",
      "t:  48%|████▊     | 120/251 [01:18<01:25,  1.53it/s, now=None]\u001b[A\u001b[A\u001b[A"
     ]
    },
    {
     "name": "stdout",
     "output_type": "stream",
     "text": [
      "[[[   0  720]\n",
      "  [1280  720]\n",
      "  [ 640  432]]]\n"
     ]
    },
    {
     "name": "stderr",
     "output_type": "stream",
     "text": [
      "\n",
      "\n",
      "\n",
      "t:  48%|████▊     | 121/251 [01:18<01:25,  1.52it/s, now=None]\u001b[A\u001b[A\u001b[A"
     ]
    },
    {
     "name": "stdout",
     "output_type": "stream",
     "text": [
      "[[[   0  720]\n",
      "  [1280  720]\n",
      "  [ 640  432]]]\n"
     ]
    },
    {
     "name": "stderr",
     "output_type": "stream",
     "text": [
      "\n",
      "\n",
      "\n",
      "t:  49%|████▊     | 122/251 [01:19<01:24,  1.53it/s, now=None]\u001b[A\u001b[A\u001b[A"
     ]
    },
    {
     "name": "stdout",
     "output_type": "stream",
     "text": [
      "[[[   0  720]\n",
      "  [1280  720]\n",
      "  [ 640  432]]]\n"
     ]
    },
    {
     "name": "stderr",
     "output_type": "stream",
     "text": [
      "\n",
      "\n",
      "\n",
      "t:  49%|████▉     | 123/251 [01:19<01:23,  1.53it/s, now=None]\u001b[A\u001b[A\u001b[A"
     ]
    },
    {
     "name": "stdout",
     "output_type": "stream",
     "text": [
      "[[[   0  720]\n",
      "  [1280  720]\n",
      "  [ 640  432]]]\n"
     ]
    },
    {
     "name": "stderr",
     "output_type": "stream",
     "text": [
      "\n",
      "\n",
      "\n",
      "t:  49%|████▉     | 124/251 [01:20<01:23,  1.53it/s, now=None]\u001b[A\u001b[A\u001b[A"
     ]
    },
    {
     "name": "stdout",
     "output_type": "stream",
     "text": [
      "[[[   0  720]\n",
      "  [1280  720]\n",
      "  [ 640  432]]]\n"
     ]
    },
    {
     "name": "stderr",
     "output_type": "stream",
     "text": [
      "\n",
      "\n",
      "\n",
      "t:  50%|████▉     | 125/251 [01:21<01:22,  1.53it/s, now=None]\u001b[A\u001b[A\u001b[A"
     ]
    },
    {
     "name": "stdout",
     "output_type": "stream",
     "text": [
      "[[[   0  720]\n",
      "  [1280  720]\n",
      "  [ 640  432]]]\n"
     ]
    },
    {
     "name": "stderr",
     "output_type": "stream",
     "text": [
      "\n",
      "\n",
      "\n",
      "t:  50%|█████     | 126/251 [01:21<01:21,  1.53it/s, now=None]\u001b[A\u001b[A\u001b[A"
     ]
    },
    {
     "name": "stdout",
     "output_type": "stream",
     "text": [
      "[[[   0  720]\n",
      "  [1280  720]\n",
      "  [ 640  432]]]\n"
     ]
    },
    {
     "name": "stderr",
     "output_type": "stream",
     "text": [
      "\n",
      "\n",
      "\n",
      "t:  51%|█████     | 127/251 [01:22<01:20,  1.54it/s, now=None]\u001b[A\u001b[A\u001b[A"
     ]
    },
    {
     "name": "stdout",
     "output_type": "stream",
     "text": [
      "[[[   0  720]\n",
      "  [1280  720]\n",
      "  [ 640  432]]]\n"
     ]
    },
    {
     "name": "stderr",
     "output_type": "stream",
     "text": [
      "\n",
      "\n",
      "\n",
      "t:  51%|█████     | 128/251 [01:23<01:19,  1.54it/s, now=None]\u001b[A\u001b[A\u001b[A"
     ]
    },
    {
     "name": "stdout",
     "output_type": "stream",
     "text": [
      "[[[   0  720]\n",
      "  [1280  720]\n",
      "  [ 640  432]]]\n"
     ]
    },
    {
     "name": "stderr",
     "output_type": "stream",
     "text": [
      "\n",
      "\n",
      "\n",
      "t:  51%|█████▏    | 129/251 [01:23<01:19,  1.54it/s, now=None]\u001b[A\u001b[A\u001b[A"
     ]
    },
    {
     "name": "stdout",
     "output_type": "stream",
     "text": [
      "[[[   0  720]\n",
      "  [1280  720]\n",
      "  [ 640  432]]]\n"
     ]
    },
    {
     "name": "stderr",
     "output_type": "stream",
     "text": [
      "\n",
      "\n",
      "\n",
      "t:  52%|█████▏    | 130/251 [01:24<01:18,  1.54it/s, now=None]\u001b[A\u001b[A\u001b[A"
     ]
    },
    {
     "name": "stdout",
     "output_type": "stream",
     "text": [
      "[[[   0  720]\n",
      "  [1280  720]\n",
      "  [ 640  432]]]\n"
     ]
    },
    {
     "name": "stderr",
     "output_type": "stream",
     "text": [
      "\n",
      "\n",
      "\n",
      "t:  52%|█████▏    | 131/251 [01:25<01:18,  1.54it/s, now=None]\u001b[A\u001b[A\u001b[A"
     ]
    },
    {
     "name": "stdout",
     "output_type": "stream",
     "text": [
      "[[[   0  720]\n",
      "  [1280  720]\n",
      "  [ 640  432]]]\n"
     ]
    },
    {
     "name": "stderr",
     "output_type": "stream",
     "text": [
      "\n",
      "\n",
      "\n",
      "t:  53%|█████▎    | 132/251 [01:25<01:17,  1.53it/s, now=None]\u001b[A\u001b[A\u001b[A"
     ]
    },
    {
     "name": "stdout",
     "output_type": "stream",
     "text": [
      "[[[   0  720]\n",
      "  [1280  720]\n",
      "  [ 640  432]]]\n"
     ]
    },
    {
     "name": "stderr",
     "output_type": "stream",
     "text": [
      "\n",
      "\n",
      "\n",
      "t:  53%|█████▎    | 133/251 [01:26<01:17,  1.52it/s, now=None]\u001b[A\u001b[A\u001b[A"
     ]
    },
    {
     "name": "stdout",
     "output_type": "stream",
     "text": [
      "[[[   0  720]\n",
      "  [1280  720]\n",
      "  [ 640  432]]]\n"
     ]
    },
    {
     "name": "stderr",
     "output_type": "stream",
     "text": [
      "\n",
      "\n",
      "\n",
      "t:  53%|█████▎    | 134/251 [01:27<01:16,  1.52it/s, now=None]\u001b[A\u001b[A\u001b[A"
     ]
    },
    {
     "name": "stdout",
     "output_type": "stream",
     "text": [
      "[[[   0  720]\n",
      "  [1280  720]\n",
      "  [ 640  432]]]\n"
     ]
    },
    {
     "name": "stderr",
     "output_type": "stream",
     "text": [
      "\n",
      "\n",
      "\n",
      "t:  54%|█████▍    | 135/251 [01:27<01:16,  1.52it/s, now=None]\u001b[A\u001b[A\u001b[A"
     ]
    },
    {
     "name": "stdout",
     "output_type": "stream",
     "text": [
      "[[[   0  720]\n",
      "  [1280  720]\n",
      "  [ 640  432]]]\n"
     ]
    },
    {
     "name": "stderr",
     "output_type": "stream",
     "text": [
      "\n",
      "\n",
      "\n",
      "t:  54%|█████▍    | 136/251 [01:28<01:15,  1.52it/s, now=None]\u001b[A\u001b[A\u001b[A"
     ]
    },
    {
     "name": "stdout",
     "output_type": "stream",
     "text": [
      "[[[   0  720]\n",
      "  [1280  720]\n",
      "  [ 640  432]]]\n"
     ]
    },
    {
     "name": "stderr",
     "output_type": "stream",
     "text": [
      "\n",
      "\n",
      "\n",
      "t:  55%|█████▍    | 137/251 [01:29<01:15,  1.51it/s, now=None]\u001b[A\u001b[A\u001b[A"
     ]
    },
    {
     "name": "stdout",
     "output_type": "stream",
     "text": [
      "[[[   0  720]\n",
      "  [1280  720]\n",
      "  [ 640  432]]]\n"
     ]
    },
    {
     "name": "stderr",
     "output_type": "stream",
     "text": [
      "\n",
      "\n",
      "\n",
      "t:  55%|█████▍    | 138/251 [01:29<01:15,  1.51it/s, now=None]\u001b[A\u001b[A\u001b[A"
     ]
    },
    {
     "name": "stdout",
     "output_type": "stream",
     "text": [
      "[[[   0  720]\n",
      "  [1280  720]\n",
      "  [ 640  432]]]\n"
     ]
    },
    {
     "name": "stderr",
     "output_type": "stream",
     "text": [
      "\n",
      "\n",
      "\n",
      "t:  55%|█████▌    | 139/251 [01:30<01:14,  1.51it/s, now=None]\u001b[A\u001b[A\u001b[A"
     ]
    },
    {
     "name": "stdout",
     "output_type": "stream",
     "text": [
      "[[[   0  720]\n",
      "  [1280  720]\n",
      "  [ 640  432]]]\n"
     ]
    },
    {
     "name": "stderr",
     "output_type": "stream",
     "text": [
      "\n",
      "\n",
      "\n",
      "t:  56%|█████▌    | 140/251 [01:31<01:12,  1.53it/s, now=None]\u001b[A\u001b[A\u001b[A"
     ]
    },
    {
     "name": "stdout",
     "output_type": "stream",
     "text": [
      "[[[   0  720]\n",
      "  [1280  720]\n",
      "  [ 640  432]]]\n"
     ]
    },
    {
     "name": "stderr",
     "output_type": "stream",
     "text": [
      "\n",
      "\n",
      "\n",
      "t:  56%|█████▌    | 141/251 [01:31<01:12,  1.52it/s, now=None]\u001b[A\u001b[A\u001b[A"
     ]
    },
    {
     "name": "stdout",
     "output_type": "stream",
     "text": [
      "[[[   0  720]\n",
      "  [1280  720]\n",
      "  [ 640  432]]]\n"
     ]
    },
    {
     "name": "stderr",
     "output_type": "stream",
     "text": [
      "\n",
      "\n",
      "\n",
      "t:  57%|█████▋    | 142/251 [01:32<01:11,  1.52it/s, now=None]\u001b[A\u001b[A\u001b[A"
     ]
    },
    {
     "name": "stdout",
     "output_type": "stream",
     "text": [
      "[[[   0  720]\n",
      "  [1280  720]\n",
      "  [ 640  432]]]\n"
     ]
    },
    {
     "name": "stderr",
     "output_type": "stream",
     "text": [
      "\n",
      "\n",
      "\n",
      "t:  57%|█████▋    | 143/251 [01:33<01:10,  1.52it/s, now=None]\u001b[A\u001b[A\u001b[A"
     ]
    },
    {
     "name": "stdout",
     "output_type": "stream",
     "text": [
      "[[[   0  720]\n",
      "  [1280  720]\n",
      "  [ 640  432]]]\n"
     ]
    },
    {
     "name": "stderr",
     "output_type": "stream",
     "text": [
      "\n",
      "\n",
      "\n",
      "t:  57%|█████▋    | 144/251 [01:33<01:09,  1.53it/s, now=None]\u001b[A\u001b[A\u001b[A"
     ]
    },
    {
     "name": "stdout",
     "output_type": "stream",
     "text": [
      "[[[   0  720]\n",
      "  [1280  720]\n",
      "  [ 640  432]]]\n"
     ]
    },
    {
     "name": "stderr",
     "output_type": "stream",
     "text": [
      "\n",
      "\n",
      "\n",
      "t:  58%|█████▊    | 145/251 [01:34<01:09,  1.52it/s, now=None]\u001b[A\u001b[A\u001b[A"
     ]
    },
    {
     "name": "stdout",
     "output_type": "stream",
     "text": [
      "[[[   0  720]\n",
      "  [1280  720]\n",
      "  [ 640  432]]]\n"
     ]
    },
    {
     "name": "stderr",
     "output_type": "stream",
     "text": [
      "\n",
      "\n",
      "\n",
      "t:  58%|█████▊    | 146/251 [01:35<01:08,  1.53it/s, now=None]\u001b[A\u001b[A\u001b[A"
     ]
    },
    {
     "name": "stdout",
     "output_type": "stream",
     "text": [
      "[[[   0  720]\n",
      "  [1280  720]\n",
      "  [ 640  432]]]\n"
     ]
    },
    {
     "name": "stderr",
     "output_type": "stream",
     "text": [
      "\n",
      "\n",
      "\n",
      "t:  59%|█████▊    | 147/251 [01:35<01:08,  1.53it/s, now=None]\u001b[A\u001b[A\u001b[A"
     ]
    },
    {
     "name": "stdout",
     "output_type": "stream",
     "text": [
      "[[[   0  720]\n",
      "  [1280  720]\n",
      "  [ 640  432]]]\n"
     ]
    },
    {
     "name": "stderr",
     "output_type": "stream",
     "text": [
      "\n",
      "\n",
      "\n",
      "t:  59%|█████▉    | 148/251 [01:36<01:07,  1.53it/s, now=None]\u001b[A\u001b[A\u001b[A"
     ]
    },
    {
     "name": "stdout",
     "output_type": "stream",
     "text": [
      "[[[   0  720]\n",
      "  [1280  720]\n",
      "  [ 640  432]]]\n"
     ]
    },
    {
     "name": "stderr",
     "output_type": "stream",
     "text": [
      "\n",
      "\n",
      "\n",
      "t:  59%|█████▉    | 149/251 [01:37<01:07,  1.52it/s, now=None]\u001b[A\u001b[A\u001b[A"
     ]
    },
    {
     "name": "stdout",
     "output_type": "stream",
     "text": [
      "[[[   0  720]\n",
      "  [1280  720]\n",
      "  [ 640  432]]]\n"
     ]
    },
    {
     "name": "stderr",
     "output_type": "stream",
     "text": [
      "\n",
      "\n",
      "\n",
      "t:  60%|█████▉    | 150/251 [01:37<01:06,  1.52it/s, now=None]\u001b[A\u001b[A\u001b[A"
     ]
    },
    {
     "name": "stdout",
     "output_type": "stream",
     "text": [
      "[[[   0  720]\n",
      "  [1280  720]\n",
      "  [ 640  432]]]\n"
     ]
    },
    {
     "name": "stderr",
     "output_type": "stream",
     "text": [
      "\n",
      "\n",
      "\n",
      "t:  60%|██████    | 151/251 [01:38<01:05,  1.53it/s, now=None]\u001b[A\u001b[A\u001b[A"
     ]
    },
    {
     "name": "stdout",
     "output_type": "stream",
     "text": [
      "[[[   0  720]\n",
      "  [1280  720]\n",
      "  [ 640  432]]]\n"
     ]
    },
    {
     "name": "stderr",
     "output_type": "stream",
     "text": [
      "\n",
      "\n",
      "\n",
      "t:  61%|██████    | 152/251 [01:38<01:04,  1.54it/s, now=None]\u001b[A\u001b[A\u001b[A"
     ]
    },
    {
     "name": "stdout",
     "output_type": "stream",
     "text": [
      "[[[   0  720]\n",
      "  [1280  720]\n",
      "  [ 640  432]]]\n"
     ]
    },
    {
     "name": "stderr",
     "output_type": "stream",
     "text": [
      "\n",
      "\n",
      "\n",
      "t:  61%|██████    | 153/251 [01:39<01:04,  1.53it/s, now=None]\u001b[A\u001b[A\u001b[A"
     ]
    },
    {
     "name": "stdout",
     "output_type": "stream",
     "text": [
      "[[[   0  720]\n",
      "  [1280  720]\n",
      "  [ 640  432]]]\n"
     ]
    },
    {
     "name": "stderr",
     "output_type": "stream",
     "text": [
      "\n",
      "\n",
      "\n",
      "t:  61%|██████▏   | 154/251 [01:40<01:03,  1.52it/s, now=None]\u001b[A\u001b[A\u001b[A"
     ]
    },
    {
     "name": "stdout",
     "output_type": "stream",
     "text": [
      "[[[   0  720]\n",
      "  [1280  720]\n",
      "  [ 640  432]]]\n"
     ]
    },
    {
     "name": "stderr",
     "output_type": "stream",
     "text": [
      "\n",
      "\n",
      "\n",
      "t:  62%|██████▏   | 155/251 [01:40<01:03,  1.52it/s, now=None]\u001b[A\u001b[A\u001b[A"
     ]
    },
    {
     "name": "stdout",
     "output_type": "stream",
     "text": [
      "[[[   0  720]\n",
      "  [1280  720]\n",
      "  [ 640  432]]]\n"
     ]
    },
    {
     "name": "stderr",
     "output_type": "stream",
     "text": [
      "\n",
      "\n",
      "\n",
      "t:  62%|██████▏   | 156/251 [01:41<01:02,  1.53it/s, now=None]\u001b[A\u001b[A\u001b[A"
     ]
    },
    {
     "name": "stdout",
     "output_type": "stream",
     "text": [
      "[[[   0  720]\n",
      "  [1280  720]\n",
      "  [ 640  432]]]\n"
     ]
    },
    {
     "name": "stderr",
     "output_type": "stream",
     "text": [
      "\n",
      "\n",
      "\n",
      "t:  63%|██████▎   | 157/251 [01:42<01:01,  1.52it/s, now=None]\u001b[A\u001b[A\u001b[A"
     ]
    },
    {
     "name": "stdout",
     "output_type": "stream",
     "text": [
      "[[[   0  720]\n",
      "  [1280  720]\n",
      "  [ 640  432]]]\n"
     ]
    },
    {
     "name": "stderr",
     "output_type": "stream",
     "text": [
      "\n",
      "\n",
      "\n",
      "t:  63%|██████▎   | 158/251 [01:42<01:00,  1.53it/s, now=None]\u001b[A\u001b[A\u001b[A"
     ]
    },
    {
     "name": "stdout",
     "output_type": "stream",
     "text": [
      "[[[   0  720]\n",
      "  [1280  720]\n",
      "  [ 640  432]]]\n"
     ]
    },
    {
     "name": "stderr",
     "output_type": "stream",
     "text": [
      "\n",
      "\n",
      "\n",
      "t:  63%|██████▎   | 159/251 [01:43<00:59,  1.55it/s, now=None]\u001b[A\u001b[A\u001b[A"
     ]
    },
    {
     "name": "stdout",
     "output_type": "stream",
     "text": [
      "[[[   0  720]\n",
      "  [1280  720]\n",
      "  [ 640  432]]]\n"
     ]
    },
    {
     "name": "stderr",
     "output_type": "stream",
     "text": [
      "\n",
      "\n",
      "\n",
      "t:  64%|██████▎   | 160/251 [01:44<00:58,  1.56it/s, now=None]\u001b[A\u001b[A\u001b[A"
     ]
    },
    {
     "name": "stdout",
     "output_type": "stream",
     "text": [
      "[[[   0  720]\n",
      "  [1280  720]\n",
      "  [ 640  432]]]\n"
     ]
    },
    {
     "name": "stderr",
     "output_type": "stream",
     "text": [
      "\n",
      "\n",
      "\n",
      "t:  64%|██████▍   | 161/251 [01:44<00:58,  1.54it/s, now=None]\u001b[A\u001b[A\u001b[A"
     ]
    },
    {
     "name": "stdout",
     "output_type": "stream",
     "text": [
      "[[[   0  720]\n",
      "  [1280  720]\n",
      "  [ 640  432]]]\n"
     ]
    },
    {
     "name": "stderr",
     "output_type": "stream",
     "text": [
      "\n",
      "\n",
      "\n",
      "t:  65%|██████▍   | 162/251 [01:45<00:57,  1.54it/s, now=None]\u001b[A\u001b[A\u001b[A"
     ]
    },
    {
     "name": "stdout",
     "output_type": "stream",
     "text": [
      "[[[   0  720]\n",
      "  [1280  720]\n",
      "  [ 640  432]]]\n"
     ]
    },
    {
     "name": "stderr",
     "output_type": "stream",
     "text": [
      "\n",
      "\n",
      "\n",
      "t:  65%|██████▍   | 163/251 [01:46<00:57,  1.54it/s, now=None]\u001b[A\u001b[A\u001b[A"
     ]
    },
    {
     "name": "stdout",
     "output_type": "stream",
     "text": [
      "[[[   0  720]\n",
      "  [1280  720]\n",
      "  [ 640  432]]]\n"
     ]
    },
    {
     "name": "stderr",
     "output_type": "stream",
     "text": [
      "\n",
      "\n",
      "\n",
      "t:  65%|██████▌   | 164/251 [01:46<00:56,  1.53it/s, now=None]\u001b[A\u001b[A\u001b[A"
     ]
    },
    {
     "name": "stdout",
     "output_type": "stream",
     "text": [
      "[[[   0  720]\n",
      "  [1280  720]\n",
      "  [ 640  432]]]\n"
     ]
    },
    {
     "name": "stderr",
     "output_type": "stream",
     "text": [
      "\n",
      "\n",
      "\n",
      "t:  66%|██████▌   | 165/251 [01:47<00:56,  1.52it/s, now=None]\u001b[A\u001b[A\u001b[A"
     ]
    },
    {
     "name": "stdout",
     "output_type": "stream",
     "text": [
      "[[[   0  720]\n",
      "  [1280  720]\n",
      "  [ 640  432]]]\n"
     ]
    },
    {
     "name": "stderr",
     "output_type": "stream",
     "text": [
      "\n",
      "\n",
      "\n",
      "t:  66%|██████▌   | 166/251 [01:48<00:55,  1.53it/s, now=None]\u001b[A\u001b[A\u001b[A"
     ]
    },
    {
     "name": "stdout",
     "output_type": "stream",
     "text": [
      "[[[   0  720]\n",
      "  [1280  720]\n",
      "  [ 640  432]]]\n"
     ]
    },
    {
     "name": "stderr",
     "output_type": "stream",
     "text": [
      "\n",
      "\n",
      "\n",
      "t:  67%|██████▋   | 167/251 [01:48<00:55,  1.52it/s, now=None]\u001b[A\u001b[A\u001b[A"
     ]
    },
    {
     "name": "stdout",
     "output_type": "stream",
     "text": [
      "[[[   0  720]\n",
      "  [1280  720]\n",
      "  [ 640  432]]]\n"
     ]
    },
    {
     "name": "stderr",
     "output_type": "stream",
     "text": [
      "\n",
      "\n",
      "\n",
      "t:  67%|██████▋   | 168/251 [01:49<00:54,  1.53it/s, now=None]\u001b[A\u001b[A\u001b[A"
     ]
    },
    {
     "name": "stdout",
     "output_type": "stream",
     "text": [
      "[[[   0  720]\n",
      "  [1280  720]\n",
      "  [ 640  432]]]\n"
     ]
    },
    {
     "name": "stderr",
     "output_type": "stream",
     "text": [
      "\n",
      "\n",
      "\n",
      "t:  67%|██████▋   | 169/251 [01:50<00:53,  1.53it/s, now=None]\u001b[A\u001b[A\u001b[A"
     ]
    },
    {
     "name": "stdout",
     "output_type": "stream",
     "text": [
      "[[[   0  720]\n",
      "  [1280  720]\n",
      "  [ 640  432]]]\n"
     ]
    },
    {
     "name": "stderr",
     "output_type": "stream",
     "text": [
      "\n",
      "\n",
      "\n",
      "t:  68%|██████▊   | 170/251 [01:50<00:52,  1.53it/s, now=None]\u001b[A\u001b[A\u001b[A"
     ]
    },
    {
     "name": "stdout",
     "output_type": "stream",
     "text": [
      "[[[   0  720]\n",
      "  [1280  720]\n",
      "  [ 640  432]]]\n"
     ]
    },
    {
     "name": "stderr",
     "output_type": "stream",
     "text": [
      "\n",
      "\n",
      "\n",
      "t:  68%|██████▊   | 171/251 [01:51<00:52,  1.52it/s, now=None]\u001b[A\u001b[A\u001b[A"
     ]
    },
    {
     "name": "stdout",
     "output_type": "stream",
     "text": [
      "[[[   0  720]\n",
      "  [1280  720]\n",
      "  [ 640  432]]]\n"
     ]
    },
    {
     "name": "stderr",
     "output_type": "stream",
     "text": [
      "\n",
      "\n",
      "\n",
      "t:  69%|██████▊   | 172/251 [01:52<00:52,  1.52it/s, now=None]\u001b[A\u001b[A\u001b[A"
     ]
    },
    {
     "name": "stdout",
     "output_type": "stream",
     "text": [
      "[[[   0  720]\n",
      "  [1280  720]\n",
      "  [ 640  432]]]\n"
     ]
    },
    {
     "name": "stderr",
     "output_type": "stream",
     "text": [
      "\n",
      "\n",
      "\n",
      "t:  69%|██████▉   | 173/251 [01:52<00:51,  1.52it/s, now=None]\u001b[A\u001b[A\u001b[A"
     ]
    },
    {
     "name": "stdout",
     "output_type": "stream",
     "text": [
      "[[[   0  720]\n",
      "  [1280  720]\n",
      "  [ 640  432]]]\n"
     ]
    },
    {
     "name": "stderr",
     "output_type": "stream",
     "text": [
      "\n",
      "\n",
      "\n",
      "t:  69%|██████▉   | 174/251 [01:53<00:50,  1.53it/s, now=None]\u001b[A\u001b[A\u001b[A"
     ]
    },
    {
     "name": "stdout",
     "output_type": "stream",
     "text": [
      "[[[   0  720]\n",
      "  [1280  720]\n",
      "  [ 640  432]]]\n"
     ]
    },
    {
     "name": "stderr",
     "output_type": "stream",
     "text": [
      "\n",
      "\n",
      "\n",
      "t:  70%|██████▉   | 175/251 [01:54<00:49,  1.52it/s, now=None]\u001b[A\u001b[A\u001b[A"
     ]
    },
    {
     "name": "stdout",
     "output_type": "stream",
     "text": [
      "[[[   0  720]\n",
      "  [1280  720]\n",
      "  [ 640  432]]]\n"
     ]
    },
    {
     "name": "stderr",
     "output_type": "stream",
     "text": [
      "\n",
      "\n",
      "\n",
      "t:  70%|███████   | 176/251 [01:54<00:48,  1.54it/s, now=None]\u001b[A\u001b[A\u001b[A"
     ]
    },
    {
     "name": "stdout",
     "output_type": "stream",
     "text": [
      "[[[   0  720]\n",
      "  [1280  720]\n",
      "  [ 640  432]]]\n"
     ]
    },
    {
     "name": "stderr",
     "output_type": "stream",
     "text": [
      "\n",
      "\n",
      "\n",
      "t:  71%|███████   | 177/251 [01:55<00:48,  1.54it/s, now=None]\u001b[A\u001b[A\u001b[A"
     ]
    },
    {
     "name": "stdout",
     "output_type": "stream",
     "text": [
      "[[[   0  720]\n",
      "  [1280  720]\n",
      "  [ 640  432]]]\n"
     ]
    },
    {
     "name": "stderr",
     "output_type": "stream",
     "text": [
      "\n",
      "\n",
      "\n",
      "t:  71%|███████   | 178/251 [01:55<00:47,  1.54it/s, now=None]\u001b[A\u001b[A\u001b[A"
     ]
    },
    {
     "name": "stdout",
     "output_type": "stream",
     "text": [
      "[[[   0  720]\n",
      "  [1280  720]\n",
      "  [ 640  432]]]\n"
     ]
    },
    {
     "name": "stderr",
     "output_type": "stream",
     "text": [
      "\n",
      "\n",
      "\n",
      "t:  71%|███████▏  | 179/251 [01:56<00:47,  1.53it/s, now=None]\u001b[A\u001b[A\u001b[A"
     ]
    },
    {
     "name": "stdout",
     "output_type": "stream",
     "text": [
      "[[[   0  720]\n",
      "  [1280  720]\n",
      "  [ 640  432]]]\n"
     ]
    },
    {
     "name": "stderr",
     "output_type": "stream",
     "text": [
      "\n",
      "\n",
      "\n",
      "t:  72%|███████▏  | 180/251 [01:57<00:46,  1.53it/s, now=None]\u001b[A\u001b[A\u001b[A"
     ]
    },
    {
     "name": "stdout",
     "output_type": "stream",
     "text": [
      "[[[   0  720]\n",
      "  [1280  720]\n",
      "  [ 640  432]]]\n"
     ]
    },
    {
     "name": "stderr",
     "output_type": "stream",
     "text": [
      "\n",
      "\n",
      "\n",
      "t:  72%|███████▏  | 181/251 [01:57<00:46,  1.52it/s, now=None]\u001b[A\u001b[A\u001b[A"
     ]
    },
    {
     "name": "stdout",
     "output_type": "stream",
     "text": [
      "[[[   0  720]\n",
      "  [1280  720]\n",
      "  [ 640  432]]]\n"
     ]
    },
    {
     "name": "stderr",
     "output_type": "stream",
     "text": [
      "\n",
      "\n",
      "\n",
      "t:  73%|███████▎  | 182/251 [01:58<00:44,  1.53it/s, now=None]\u001b[A\u001b[A\u001b[A"
     ]
    },
    {
     "name": "stdout",
     "output_type": "stream",
     "text": [
      "[[[   0  720]\n",
      "  [1280  720]\n",
      "  [ 640  432]]]\n"
     ]
    },
    {
     "name": "stderr",
     "output_type": "stream",
     "text": [
      "\n",
      "\n",
      "\n",
      "t:  73%|███████▎  | 183/251 [01:59<00:44,  1.53it/s, now=None]\u001b[A\u001b[A\u001b[A"
     ]
    },
    {
     "name": "stdout",
     "output_type": "stream",
     "text": [
      "[[[   0  720]\n",
      "  [1280  720]\n",
      "  [ 640  432]]]\n"
     ]
    },
    {
     "name": "stderr",
     "output_type": "stream",
     "text": [
      "\n",
      "\n",
      "\n",
      "t:  73%|███████▎  | 184/251 [01:59<00:43,  1.53it/s, now=None]\u001b[A\u001b[A\u001b[A"
     ]
    },
    {
     "name": "stdout",
     "output_type": "stream",
     "text": [
      "[[[   0  720]\n",
      "  [1280  720]\n",
      "  [ 640  432]]]\n"
     ]
    },
    {
     "name": "stderr",
     "output_type": "stream",
     "text": [
      "\n",
      "\n",
      "\n",
      "t:  74%|███████▎  | 185/251 [02:00<00:43,  1.53it/s, now=None]\u001b[A\u001b[A\u001b[A"
     ]
    },
    {
     "name": "stdout",
     "output_type": "stream",
     "text": [
      "[[[   0  720]\n",
      "  [1280  720]\n",
      "  [ 640  432]]]\n"
     ]
    },
    {
     "name": "stderr",
     "output_type": "stream",
     "text": [
      "\n",
      "\n",
      "\n",
      "t:  74%|███████▍  | 186/251 [02:01<00:42,  1.53it/s, now=None]\u001b[A\u001b[A\u001b[A"
     ]
    },
    {
     "name": "stdout",
     "output_type": "stream",
     "text": [
      "[[[   0  720]\n",
      "  [1280  720]\n",
      "  [ 640  432]]]\n"
     ]
    },
    {
     "name": "stderr",
     "output_type": "stream",
     "text": [
      "\n",
      "\n",
      "\n",
      "t:  75%|███████▍  | 187/251 [02:01<00:41,  1.54it/s, now=None]\u001b[A\u001b[A\u001b[A"
     ]
    },
    {
     "name": "stdout",
     "output_type": "stream",
     "text": [
      "[[[   0  720]\n",
      "  [1280  720]\n",
      "  [ 640  432]]]\n"
     ]
    },
    {
     "name": "stderr",
     "output_type": "stream",
     "text": [
      "\n",
      "\n",
      "\n",
      "t:  75%|███████▍  | 188/251 [02:02<00:40,  1.54it/s, now=None]\u001b[A\u001b[A\u001b[A"
     ]
    },
    {
     "name": "stdout",
     "output_type": "stream",
     "text": [
      "[[[   0  720]\n",
      "  [1280  720]\n",
      "  [ 640  432]]]\n"
     ]
    },
    {
     "name": "stderr",
     "output_type": "stream",
     "text": [
      "\n",
      "\n",
      "\n",
      "t:  75%|███████▌  | 189/251 [02:03<00:40,  1.52it/s, now=None]\u001b[A\u001b[A\u001b[A"
     ]
    },
    {
     "name": "stdout",
     "output_type": "stream",
     "text": [
      "[[[   0  720]\n",
      "  [1280  720]\n",
      "  [ 640  432]]]\n"
     ]
    },
    {
     "name": "stderr",
     "output_type": "stream",
     "text": [
      "\n",
      "\n",
      "\n",
      "t:  76%|███████▌  | 190/251 [02:03<00:40,  1.52it/s, now=None]\u001b[A\u001b[A\u001b[A"
     ]
    },
    {
     "name": "stdout",
     "output_type": "stream",
     "text": [
      "[[[   0  720]\n",
      "  [1280  720]\n",
      "  [ 640  432]]]\n"
     ]
    },
    {
     "name": "stderr",
     "output_type": "stream",
     "text": [
      "\n",
      "\n",
      "\n",
      "t:  76%|███████▌  | 191/251 [02:04<00:39,  1.52it/s, now=None]\u001b[A\u001b[A\u001b[A"
     ]
    },
    {
     "name": "stdout",
     "output_type": "stream",
     "text": [
      "[[[   0  720]\n",
      "  [1280  720]\n",
      "  [ 640  432]]]\n"
     ]
    },
    {
     "name": "stderr",
     "output_type": "stream",
     "text": [
      "\n",
      "\n",
      "\n",
      "t:  76%|███████▋  | 192/251 [02:05<00:39,  1.51it/s, now=None]\u001b[A\u001b[A\u001b[A"
     ]
    },
    {
     "name": "stdout",
     "output_type": "stream",
     "text": [
      "[[[   0  720]\n",
      "  [1280  720]\n",
      "  [ 640  432]]]\n"
     ]
    },
    {
     "name": "stderr",
     "output_type": "stream",
     "text": [
      "\n",
      "\n",
      "\n",
      "t:  77%|███████▋  | 193/251 [02:05<00:38,  1.51it/s, now=None]\u001b[A\u001b[A\u001b[A"
     ]
    },
    {
     "name": "stdout",
     "output_type": "stream",
     "text": [
      "[[[   0  720]\n",
      "  [1280  720]\n",
      "  [ 640  432]]]\n"
     ]
    },
    {
     "name": "stderr",
     "output_type": "stream",
     "text": [
      "\n",
      "\n",
      "\n",
      "t:  77%|███████▋  | 194/251 [02:06<00:37,  1.53it/s, now=None]\u001b[A\u001b[A\u001b[A"
     ]
    },
    {
     "name": "stdout",
     "output_type": "stream",
     "text": [
      "[[[   0  720]\n",
      "  [1280  720]\n",
      "  [ 640  432]]]\n"
     ]
    },
    {
     "name": "stderr",
     "output_type": "stream",
     "text": [
      "\n",
      "\n",
      "\n",
      "t:  78%|███████▊  | 195/251 [02:07<00:36,  1.53it/s, now=None]\u001b[A\u001b[A\u001b[A"
     ]
    },
    {
     "name": "stdout",
     "output_type": "stream",
     "text": [
      "[[[   0  720]\n",
      "  [1280  720]\n",
      "  [ 640  432]]]\n"
     ]
    },
    {
     "name": "stderr",
     "output_type": "stream",
     "text": [
      "\n",
      "\n",
      "\n",
      "t:  78%|███████▊  | 196/251 [02:07<00:35,  1.53it/s, now=None]\u001b[A\u001b[A\u001b[A"
     ]
    },
    {
     "name": "stdout",
     "output_type": "stream",
     "text": [
      "[[[   0  720]\n",
      "  [1280  720]\n",
      "  [ 640  432]]]\n"
     ]
    },
    {
     "name": "stderr",
     "output_type": "stream",
     "text": [
      "\n",
      "\n",
      "\n",
      "t:  78%|███████▊  | 197/251 [02:08<00:35,  1.52it/s, now=None]\u001b[A\u001b[A\u001b[A"
     ]
    },
    {
     "name": "stdout",
     "output_type": "stream",
     "text": [
      "[[[   0  720]\n",
      "  [1280  720]\n",
      "  [ 640  432]]]\n"
     ]
    },
    {
     "name": "stderr",
     "output_type": "stream",
     "text": [
      "\n",
      "\n",
      "\n",
      "t:  79%|███████▉  | 198/251 [02:09<00:34,  1.53it/s, now=None]\u001b[A\u001b[A\u001b[A"
     ]
    },
    {
     "name": "stdout",
     "output_type": "stream",
     "text": [
      "[[[   0  720]\n",
      "  [1280  720]\n",
      "  [ 640  432]]]\n"
     ]
    },
    {
     "name": "stderr",
     "output_type": "stream",
     "text": [
      "\n",
      "\n",
      "\n",
      "t:  79%|███████▉  | 199/251 [02:09<00:34,  1.53it/s, now=None]\u001b[A\u001b[A\u001b[A"
     ]
    },
    {
     "name": "stdout",
     "output_type": "stream",
     "text": [
      "[[[   0  720]\n",
      "  [1280  720]\n",
      "  [ 640  432]]]\n"
     ]
    },
    {
     "name": "stderr",
     "output_type": "stream",
     "text": [
      "\n",
      "\n",
      "\n",
      "t:  80%|███████▉  | 200/251 [02:10<00:33,  1.53it/s, now=None]\u001b[A\u001b[A\u001b[A"
     ]
    },
    {
     "name": "stdout",
     "output_type": "stream",
     "text": [
      "[[[   0  720]\n",
      "  [1280  720]\n",
      "  [ 640  432]]]\n"
     ]
    },
    {
     "name": "stderr",
     "output_type": "stream",
     "text": [
      "\n",
      "\n",
      "\n",
      "t:  80%|████████  | 201/251 [02:11<00:32,  1.52it/s, now=None]\u001b[A\u001b[A\u001b[A"
     ]
    },
    {
     "name": "stdout",
     "output_type": "stream",
     "text": [
      "[[[   0  720]\n",
      "  [1280  720]\n",
      "  [ 640  432]]]\n"
     ]
    },
    {
     "name": "stderr",
     "output_type": "stream",
     "text": [
      "\n",
      "\n",
      "\n",
      "t:  80%|████████  | 202/251 [02:11<00:32,  1.52it/s, now=None]\u001b[A\u001b[A\u001b[A"
     ]
    },
    {
     "name": "stdout",
     "output_type": "stream",
     "text": [
      "[[[   0  720]\n",
      "  [1280  720]\n",
      "  [ 640  432]]]\n"
     ]
    },
    {
     "name": "stderr",
     "output_type": "stream",
     "text": [
      "\n",
      "\n",
      "\n",
      "t:  81%|████████  | 203/251 [02:12<00:31,  1.54it/s, now=None]\u001b[A\u001b[A\u001b[A"
     ]
    },
    {
     "name": "stdout",
     "output_type": "stream",
     "text": [
      "[[[   0  720]\n",
      "  [1280  720]\n",
      "  [ 640  432]]]\n"
     ]
    },
    {
     "name": "stderr",
     "output_type": "stream",
     "text": [
      "\n",
      "\n",
      "\n",
      "t:  81%|████████▏ | 204/251 [02:13<00:30,  1.53it/s, now=None]\u001b[A\u001b[A\u001b[A"
     ]
    },
    {
     "name": "stdout",
     "output_type": "stream",
     "text": [
      "[[[   0  720]\n",
      "  [1280  720]\n",
      "  [ 640  432]]]\n"
     ]
    },
    {
     "name": "stderr",
     "output_type": "stream",
     "text": [
      "\n",
      "\n",
      "\n",
      "t:  82%|████████▏ | 205/251 [02:13<00:29,  1.54it/s, now=None]\u001b[A\u001b[A\u001b[A"
     ]
    },
    {
     "name": "stdout",
     "output_type": "stream",
     "text": [
      "[[[   0  720]\n",
      "  [1280  720]\n",
      "  [ 640  432]]]\n"
     ]
    },
    {
     "name": "stderr",
     "output_type": "stream",
     "text": [
      "\n",
      "\n",
      "\n",
      "t:  82%|████████▏ | 206/251 [02:14<00:29,  1.54it/s, now=None]\u001b[A\u001b[A\u001b[A"
     ]
    },
    {
     "name": "stdout",
     "output_type": "stream",
     "text": [
      "[[[   0  720]\n",
      "  [1280  720]\n",
      "  [ 640  432]]]\n"
     ]
    },
    {
     "name": "stderr",
     "output_type": "stream",
     "text": [
      "\n",
      "\n",
      "\n",
      "t:  82%|████████▏ | 207/251 [02:14<00:28,  1.53it/s, now=None]\u001b[A\u001b[A\u001b[A"
     ]
    },
    {
     "name": "stdout",
     "output_type": "stream",
     "text": [
      "[[[   0  720]\n",
      "  [1280  720]\n",
      "  [ 640  432]]]\n"
     ]
    },
    {
     "name": "stderr",
     "output_type": "stream",
     "text": [
      "\n",
      "\n",
      "\n",
      "t:  83%|████████▎ | 208/251 [02:15<00:28,  1.53it/s, now=None]\u001b[A\u001b[A\u001b[A"
     ]
    },
    {
     "name": "stdout",
     "output_type": "stream",
     "text": [
      "[[[   0  720]\n",
      "  [1280  720]\n",
      "  [ 640  432]]]\n"
     ]
    },
    {
     "name": "stderr",
     "output_type": "stream",
     "text": [
      "\n",
      "\n",
      "\n",
      "t:  83%|████████▎ | 209/251 [02:16<00:27,  1.53it/s, now=None]\u001b[A\u001b[A\u001b[A"
     ]
    },
    {
     "name": "stdout",
     "output_type": "stream",
     "text": [
      "[[[   0  720]\n",
      "  [1280  720]\n",
      "  [ 640  432]]]\n"
     ]
    },
    {
     "name": "stderr",
     "output_type": "stream",
     "text": [
      "\n",
      "\n",
      "\n",
      "t:  84%|████████▎ | 210/251 [02:16<00:26,  1.53it/s, now=None]\u001b[A\u001b[A\u001b[A"
     ]
    },
    {
     "name": "stdout",
     "output_type": "stream",
     "text": [
      "[[[   0  720]\n",
      "  [1280  720]\n",
      "  [ 640  432]]]\n"
     ]
    },
    {
     "name": "stderr",
     "output_type": "stream",
     "text": [
      "\n",
      "\n",
      "\n",
      "t:  84%|████████▍ | 211/251 [02:17<00:26,  1.53it/s, now=None]\u001b[A\u001b[A\u001b[A"
     ]
    },
    {
     "name": "stdout",
     "output_type": "stream",
     "text": [
      "[[[   0  720]\n",
      "  [1280  720]\n",
      "  [ 640  432]]]\n"
     ]
    },
    {
     "name": "stderr",
     "output_type": "stream",
     "text": [
      "\n",
      "\n",
      "\n",
      "t:  84%|████████▍ | 212/251 [02:18<00:25,  1.54it/s, now=None]\u001b[A\u001b[A\u001b[A"
     ]
    },
    {
     "name": "stdout",
     "output_type": "stream",
     "text": [
      "[[[   0  720]\n",
      "  [1280  720]\n",
      "  [ 640  432]]]\n"
     ]
    },
    {
     "name": "stderr",
     "output_type": "stream",
     "text": [
      "\n",
      "\n",
      "\n",
      "t:  85%|████████▍ | 213/251 [02:18<00:24,  1.53it/s, now=None]\u001b[A\u001b[A\u001b[A"
     ]
    },
    {
     "name": "stdout",
     "output_type": "stream",
     "text": [
      "[[[   0  720]\n",
      "  [1280  720]\n",
      "  [ 640  432]]]\n"
     ]
    },
    {
     "name": "stderr",
     "output_type": "stream",
     "text": [
      "\n",
      "\n",
      "\n",
      "t:  85%|████████▌ | 214/251 [02:19<00:24,  1.54it/s, now=None]\u001b[A\u001b[A\u001b[A"
     ]
    },
    {
     "name": "stdout",
     "output_type": "stream",
     "text": [
      "[[[   0  720]\n",
      "  [1280  720]\n",
      "  [ 640  432]]]\n"
     ]
    },
    {
     "name": "stderr",
     "output_type": "stream",
     "text": [
      "\n",
      "\n",
      "\n",
      "t:  86%|████████▌ | 215/251 [02:20<00:23,  1.54it/s, now=None]\u001b[A\u001b[A\u001b[A"
     ]
    },
    {
     "name": "stdout",
     "output_type": "stream",
     "text": [
      "[[[   0  720]\n",
      "  [1280  720]\n",
      "  [ 640  432]]]\n"
     ]
    },
    {
     "name": "stderr",
     "output_type": "stream",
     "text": [
      "\n",
      "\n",
      "\n",
      "t:  86%|████████▌ | 216/251 [02:20<00:22,  1.53it/s, now=None]\u001b[A\u001b[A\u001b[A"
     ]
    },
    {
     "name": "stdout",
     "output_type": "stream",
     "text": [
      "[[[   0  720]\n",
      "  [1280  720]\n",
      "  [ 640  432]]]\n"
     ]
    },
    {
     "name": "stderr",
     "output_type": "stream",
     "text": [
      "\n",
      "\n",
      "\n",
      "t:  86%|████████▋ | 217/251 [02:21<00:22,  1.53it/s, now=None]\u001b[A\u001b[A\u001b[A"
     ]
    },
    {
     "name": "stdout",
     "output_type": "stream",
     "text": [
      "[[[   0  720]\n",
      "  [1280  720]\n",
      "  [ 640  432]]]\n"
     ]
    },
    {
     "name": "stderr",
     "output_type": "stream",
     "text": [
      "\n",
      "\n",
      "\n",
      "t:  87%|████████▋ | 218/251 [02:22<00:21,  1.54it/s, now=None]\u001b[A\u001b[A\u001b[A"
     ]
    },
    {
     "name": "stdout",
     "output_type": "stream",
     "text": [
      "[[[   0  720]\n",
      "  [1280  720]\n",
      "  [ 640  432]]]\n"
     ]
    },
    {
     "name": "stderr",
     "output_type": "stream",
     "text": [
      "\n",
      "\n",
      "\n",
      "t:  87%|████████▋ | 219/251 [02:22<00:20,  1.54it/s, now=None]\u001b[A\u001b[A\u001b[A"
     ]
    },
    {
     "name": "stdout",
     "output_type": "stream",
     "text": [
      "[[[   0  720]\n",
      "  [1280  720]\n",
      "  [ 640  432]]]\n"
     ]
    },
    {
     "name": "stderr",
     "output_type": "stream",
     "text": [
      "\n",
      "\n",
      "\n",
      "t:  88%|████████▊ | 220/251 [02:23<00:20,  1.55it/s, now=None]\u001b[A\u001b[A\u001b[A"
     ]
    },
    {
     "name": "stdout",
     "output_type": "stream",
     "text": [
      "[[[   0  720]\n",
      "  [1280  720]\n",
      "  [ 640  432]]]\n"
     ]
    },
    {
     "name": "stderr",
     "output_type": "stream",
     "text": [
      "\n",
      "\n",
      "\n",
      "t:  88%|████████▊ | 221/251 [02:24<00:19,  1.53it/s, now=None]\u001b[A\u001b[A\u001b[A"
     ]
    },
    {
     "name": "stdout",
     "output_type": "stream",
     "text": [
      "[[[   0  720]\n",
      "  [1280  720]\n",
      "  [ 640  432]]]\n"
     ]
    },
    {
     "name": "stderr",
     "output_type": "stream",
     "text": [
      "\n",
      "\n",
      "\n",
      "t:  88%|████████▊ | 222/251 [02:24<00:18,  1.53it/s, now=None]\u001b[A\u001b[A\u001b[A"
     ]
    },
    {
     "name": "stdout",
     "output_type": "stream",
     "text": [
      "[[[   0  720]\n",
      "  [1280  720]\n",
      "  [ 640  432]]]\n"
     ]
    },
    {
     "name": "stderr",
     "output_type": "stream",
     "text": [
      "\n",
      "\n",
      "\n",
      "t:  89%|████████▉ | 223/251 [02:25<00:18,  1.54it/s, now=None]\u001b[A\u001b[A\u001b[A"
     ]
    },
    {
     "name": "stdout",
     "output_type": "stream",
     "text": [
      "[[[   0  720]\n",
      "  [1280  720]\n",
      "  [ 640  432]]]\n"
     ]
    },
    {
     "name": "stderr",
     "output_type": "stream",
     "text": [
      "\n",
      "\n",
      "\n",
      "t:  89%|████████▉ | 224/251 [02:26<00:17,  1.54it/s, now=None]\u001b[A\u001b[A\u001b[A"
     ]
    },
    {
     "name": "stdout",
     "output_type": "stream",
     "text": [
      "[[[   0  720]\n",
      "  [1280  720]\n",
      "  [ 640  432]]]\n"
     ]
    },
    {
     "name": "stderr",
     "output_type": "stream",
     "text": [
      "\n",
      "\n",
      "\n",
      "t:  90%|████████▉ | 225/251 [02:26<00:16,  1.53it/s, now=None]\u001b[A\u001b[A\u001b[A"
     ]
    },
    {
     "name": "stdout",
     "output_type": "stream",
     "text": [
      "[[[   0  720]\n",
      "  [1280  720]\n",
      "  [ 640  432]]]\n"
     ]
    },
    {
     "name": "stderr",
     "output_type": "stream",
     "text": [
      "\n",
      "\n",
      "\n",
      "t:  90%|█████████ | 226/251 [02:27<00:16,  1.53it/s, now=None]\u001b[A\u001b[A\u001b[A"
     ]
    },
    {
     "name": "stdout",
     "output_type": "stream",
     "text": [
      "[[[   0  720]\n",
      "  [1280  720]\n",
      "  [ 640  432]]]\n"
     ]
    },
    {
     "name": "stderr",
     "output_type": "stream",
     "text": [
      "\n",
      "\n",
      "\n",
      "t:  90%|█████████ | 227/251 [02:27<00:15,  1.53it/s, now=None]\u001b[A\u001b[A\u001b[A"
     ]
    },
    {
     "name": "stdout",
     "output_type": "stream",
     "text": [
      "[[[   0  720]\n",
      "  [1280  720]\n",
      "  [ 640  432]]]\n"
     ]
    },
    {
     "name": "stderr",
     "output_type": "stream",
     "text": [
      "\n",
      "\n",
      "\n",
      "t:  91%|█████████ | 228/251 [02:28<00:14,  1.54it/s, now=None]\u001b[A\u001b[A\u001b[A"
     ]
    },
    {
     "name": "stdout",
     "output_type": "stream",
     "text": [
      "[[[   0  720]\n",
      "  [1280  720]\n",
      "  [ 640  432]]]\n"
     ]
    },
    {
     "name": "stderr",
     "output_type": "stream",
     "text": [
      "\n",
      "\n",
      "\n",
      "t:  91%|█████████ | 229/251 [02:29<00:14,  1.53it/s, now=None]\u001b[A\u001b[A\u001b[A"
     ]
    },
    {
     "name": "stdout",
     "output_type": "stream",
     "text": [
      "[[[   0  720]\n",
      "  [1280  720]\n",
      "  [ 640  432]]]\n"
     ]
    },
    {
     "name": "stderr",
     "output_type": "stream",
     "text": [
      "\n",
      "\n",
      "\n",
      "t:  92%|█████████▏| 230/251 [02:29<00:13,  1.52it/s, now=None]\u001b[A\u001b[A\u001b[A"
     ]
    },
    {
     "name": "stdout",
     "output_type": "stream",
     "text": [
      "[[[   0  720]\n",
      "  [1280  720]\n",
      "  [ 640  432]]]\n"
     ]
    },
    {
     "name": "stderr",
     "output_type": "stream",
     "text": [
      "\n",
      "\n",
      "\n",
      "t:  92%|█████████▏| 231/251 [02:30<00:13,  1.53it/s, now=None]\u001b[A\u001b[A\u001b[A"
     ]
    },
    {
     "name": "stdout",
     "output_type": "stream",
     "text": [
      "[[[   0  720]\n",
      "  [1280  720]\n",
      "  [ 640  432]]]\n"
     ]
    },
    {
     "name": "stderr",
     "output_type": "stream",
     "text": [
      "\n",
      "\n",
      "\n",
      "t:  92%|█████████▏| 232/251 [02:31<00:12,  1.53it/s, now=None]\u001b[A\u001b[A\u001b[A"
     ]
    },
    {
     "name": "stdout",
     "output_type": "stream",
     "text": [
      "[[[   0  720]\n",
      "  [1280  720]\n",
      "  [ 640  432]]]\n"
     ]
    },
    {
     "name": "stderr",
     "output_type": "stream",
     "text": [
      "\n",
      "\n",
      "\n",
      "t:  93%|█████████▎| 233/251 [02:31<00:11,  1.54it/s, now=None]\u001b[A\u001b[A\u001b[A"
     ]
    },
    {
     "name": "stdout",
     "output_type": "stream",
     "text": [
      "[[[   0  720]\n",
      "  [1280  720]\n",
      "  [ 640  432]]]\n"
     ]
    },
    {
     "name": "stderr",
     "output_type": "stream",
     "text": [
      "\n",
      "\n",
      "\n",
      "t:  93%|█████████▎| 234/251 [02:32<00:11,  1.54it/s, now=None]\u001b[A\u001b[A\u001b[A"
     ]
    },
    {
     "name": "stdout",
     "output_type": "stream",
     "text": [
      "[[[   0  720]\n",
      "  [1280  720]\n",
      "  [ 640  432]]]\n"
     ]
    },
    {
     "name": "stderr",
     "output_type": "stream",
     "text": [
      "\n",
      "\n",
      "\n",
      "t:  94%|█████████▎| 235/251 [02:33<00:10,  1.53it/s, now=None]\u001b[A\u001b[A\u001b[A"
     ]
    },
    {
     "name": "stdout",
     "output_type": "stream",
     "text": [
      "[[[   0  720]\n",
      "  [1280  720]\n",
      "  [ 640  432]]]\n"
     ]
    },
    {
     "name": "stderr",
     "output_type": "stream",
     "text": [
      "\n",
      "\n",
      "\n",
      "t:  94%|█████████▍| 236/251 [02:33<00:09,  1.54it/s, now=None]\u001b[A\u001b[A\u001b[A"
     ]
    },
    {
     "name": "stdout",
     "output_type": "stream",
     "text": [
      "[[[   0  720]\n",
      "  [1280  720]\n",
      "  [ 640  432]]]\n"
     ]
    },
    {
     "name": "stderr",
     "output_type": "stream",
     "text": [
      "\n",
      "\n",
      "\n",
      "t:  94%|█████████▍| 237/251 [02:34<00:09,  1.54it/s, now=None]\u001b[A\u001b[A\u001b[A"
     ]
    },
    {
     "name": "stdout",
     "output_type": "stream",
     "text": [
      "[[[   0  720]\n",
      "  [1280  720]\n",
      "  [ 640  432]]]\n"
     ]
    },
    {
     "name": "stderr",
     "output_type": "stream",
     "text": [
      "\n",
      "\n",
      "\n",
      "t:  95%|█████████▍| 238/251 [02:35<00:08,  1.55it/s, now=None]\u001b[A\u001b[A\u001b[A"
     ]
    },
    {
     "name": "stdout",
     "output_type": "stream",
     "text": [
      "[[[   0  720]\n",
      "  [1280  720]\n",
      "  [ 640  432]]]\n"
     ]
    },
    {
     "name": "stderr",
     "output_type": "stream",
     "text": [
      "\n",
      "\n",
      "\n",
      "t:  95%|█████████▌| 239/251 [02:35<00:07,  1.55it/s, now=None]\u001b[A\u001b[A\u001b[A"
     ]
    },
    {
     "name": "stdout",
     "output_type": "stream",
     "text": [
      "[[[   0  720]\n",
      "  [1280  720]\n",
      "  [ 640  432]]]\n"
     ]
    },
    {
     "name": "stderr",
     "output_type": "stream",
     "text": [
      "\n",
      "\n",
      "\n",
      "t:  96%|█████████▌| 240/251 [02:36<00:07,  1.55it/s, now=None]\u001b[A\u001b[A\u001b[A"
     ]
    },
    {
     "name": "stdout",
     "output_type": "stream",
     "text": [
      "[[[   0  720]\n",
      "  [1280  720]\n",
      "  [ 640  432]]]\n"
     ]
    },
    {
     "name": "stderr",
     "output_type": "stream",
     "text": [
      "\n",
      "\n",
      "\n",
      "t:  96%|█████████▌| 241/251 [02:37<00:06,  1.51it/s, now=None]\u001b[A\u001b[A\u001b[A"
     ]
    },
    {
     "name": "stdout",
     "output_type": "stream",
     "text": [
      "[[[   0  720]\n",
      "  [1280  720]\n",
      "  [ 640  432]]]\n"
     ]
    },
    {
     "name": "stderr",
     "output_type": "stream",
     "text": [
      "\n",
      "\n",
      "\n",
      "t:  96%|█████████▋| 242/251 [02:38<00:06,  1.38it/s, now=None]\u001b[A\u001b[A\u001b[A"
     ]
    },
    {
     "name": "stdout",
     "output_type": "stream",
     "text": [
      "[[[   0  720]\n",
      "  [1280  720]\n",
      "  [ 640  432]]]\n"
     ]
    },
    {
     "name": "stderr",
     "output_type": "stream",
     "text": [
      "\n",
      "\n",
      "\n",
      "t:  97%|█████████▋| 243/251 [02:38<00:05,  1.33it/s, now=None]\u001b[A\u001b[A\u001b[A"
     ]
    },
    {
     "name": "stdout",
     "output_type": "stream",
     "text": [
      "[[[   0  720]\n",
      "  [1280  720]\n",
      "  [ 640  432]]]\n"
     ]
    },
    {
     "name": "stderr",
     "output_type": "stream",
     "text": [
      "\n",
      "\n",
      "\n",
      "t:  97%|█████████▋| 244/251 [02:39<00:05,  1.34it/s, now=None]\u001b[A\u001b[A\u001b[A"
     ]
    },
    {
     "name": "stdout",
     "output_type": "stream",
     "text": [
      "[[[   0  720]\n",
      "  [1280  720]\n",
      "  [ 640  432]]]\n"
     ]
    },
    {
     "name": "stderr",
     "output_type": "stream",
     "text": [
      "\n",
      "\n",
      "\n",
      "t:  98%|█████████▊| 245/251 [02:40<00:04,  1.37it/s, now=None]\u001b[A\u001b[A\u001b[A"
     ]
    },
    {
     "name": "stdout",
     "output_type": "stream",
     "text": [
      "[[[   0  720]\n",
      "  [1280  720]\n",
      "  [ 640  432]]]\n"
     ]
    },
    {
     "name": "stderr",
     "output_type": "stream",
     "text": [
      "\n",
      "\n",
      "\n",
      "t:  98%|█████████▊| 246/251 [02:40<00:03,  1.41it/s, now=None]\u001b[A\u001b[A\u001b[A"
     ]
    },
    {
     "name": "stdout",
     "output_type": "stream",
     "text": [
      "[[[   0  720]\n",
      "  [1280  720]\n",
      "  [ 640  432]]]\n"
     ]
    },
    {
     "name": "stderr",
     "output_type": "stream",
     "text": [
      "\n",
      "\n",
      "\n",
      "t:  98%|█████████▊| 247/251 [02:41<00:02,  1.42it/s, now=None]\u001b[A\u001b[A\u001b[A"
     ]
    },
    {
     "name": "stdout",
     "output_type": "stream",
     "text": [
      "[[[   0  720]\n",
      "  [1280  720]\n",
      "  [ 640  432]]]\n"
     ]
    },
    {
     "name": "stderr",
     "output_type": "stream",
     "text": [
      "\n",
      "\n",
      "\n",
      "t:  99%|█████████▉| 248/251 [02:42<00:02,  1.38it/s, now=None]\u001b[A\u001b[A\u001b[A"
     ]
    },
    {
     "name": "stdout",
     "output_type": "stream",
     "text": [
      "[[[   0  720]\n",
      "  [1280  720]\n",
      "  [ 640  432]]]\n"
     ]
    },
    {
     "name": "stderr",
     "output_type": "stream",
     "text": [
      "\n",
      "\n",
      "\n",
      "t:  99%|█████████▉| 249/251 [02:43<00:01,  1.39it/s, now=None]\u001b[A\u001b[A\u001b[A"
     ]
    },
    {
     "name": "stdout",
     "output_type": "stream",
     "text": [
      "[[[   0  720]\n",
      "  [1280  720]\n",
      "  [ 640  432]]]\n"
     ]
    },
    {
     "name": "stderr",
     "output_type": "stream",
     "text": [
      "\n",
      "\n",
      "\n",
      "t: 100%|█████████▉| 250/251 [02:43<00:00,  1.40it/s, now=None]\u001b[A\u001b[A\u001b[A"
     ]
    },
    {
     "name": "stdout",
     "output_type": "stream",
     "text": [
      "[[[   0  720]\n",
      "  [1280  720]\n",
      "  [ 640  432]]]\n"
     ]
    },
    {
     "name": "stderr",
     "output_type": "stream",
     "text": [
      "\n",
      "\n",
      "\n",
      "t: 100%|██████████| 251/251 [02:44<00:00,  1.41it/s, now=None]\u001b[A\u001b[A\u001b[A"
     ]
    },
    {
     "name": "stdout",
     "output_type": "stream",
     "text": [
      "[[[   0  720]\n",
      "  [1280  720]\n",
      "  [ 640  432]]]\n"
     ]
    },
    {
     "name": "stderr",
     "output_type": "stream",
     "text": [
      "\n",
      "\n",
      "\n",
      "                                                              \u001b[A\u001b[A\u001b[A"
     ]
    },
    {
     "name": "stdout",
     "output_type": "stream",
     "text": [
      "[[[   0  720]\n",
      "  [1280  720]\n",
      "  [ 640  432]]]\n",
      "Moviepy - Done !\n",
      "Moviepy - video ready /Users/zhangzheng/Desktop/lane_lines_finding/test_videos_output/challenge_output1.mp4\n",
      "CPU times: user 2min 39s, sys: 26.9 s, total: 3min 6s\n",
      "Wall time: 2min 46s\n"
     ]
    }
   ],
   "source": [
    "challenge_output = '/Users/zhangzheng/Desktop/lane_lines_finding/test_videos_output/challenge_output1.mp4'\n",
    "## To speed up the testing process you may want to try your pipeline on a shorter subclip of the video\n",
    "## To do so add .subclip(start_second,end_second) to the end of the line below\n",
    "## Where start_second and end_second are integer values representing the start and end of the subclip\n",
    "## You may also uncomment the following line for a subclip of the first 5 seconds\n",
    "# clip1 = VideoFileClip(\"/Users/zhangzheng/Desktop/lane_lines_finding/test_videos_output/solidWhiteRight.mp4\").subclip(0,5)\n",
    "clip1 = VideoFileClip(\"/Users/zhangzheng/Desktop/lane_lines_finding/test_videos/challenge.mp4\")\n",
    "print clip1\n",
    "challenge_clip = clip1.fl_image(process_image) #NOTE: this function expects color images!!\n",
    "%time challenge_clip.write_videofile(challenge_output, audio=False)"
   ]
  },
  {
   "cell_type": "code",
   "execution_count": 85,
   "metadata": {},
   "outputs": [],
   "source": []
  },
  {
   "cell_type": "code",
   "execution_count": null,
   "metadata": {},
   "outputs": [],
   "source": []
  }
 ],
 "metadata": {
  "kernelspec": {
   "display_name": "Python 3",
   "language": "python",
   "name": "python3"
  },
  "language_info": {
   "codemirror_mode": {
    "name": "ipython",
    "version": 3
   },
   "file_extension": ".py",
   "mimetype": "text/x-python",
   "name": "python",
   "nbconvert_exporter": "python",
   "pygments_lexer": "ipython3",
   "version": "3.7.4"
  }
 },
 "nbformat": 4,
 "nbformat_minor": 2
}
